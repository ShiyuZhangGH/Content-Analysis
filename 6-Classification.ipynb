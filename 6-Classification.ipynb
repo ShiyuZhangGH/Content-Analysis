{
 "cells": [
  {
   "cell_type": "code",
   "execution_count": 31,
   "metadata": {
    "collapsed": false
   },
   "outputs": [],
   "source": [
    "import sklearn\n",
    "import sklearn.naive_bayes\n",
    "import sklearn.tree\n",
    "import sklearn.ensemble\n",
    "import sklearn.neural_network\n",
    "import sklearn.decomposition\n",
    "from sklearn.model_selection import train_test_split, KFold\n",
    "from sklearn.metrics import accuracy_score, \\\n",
    "precision_score, recall_score, f1_score, confusion_matrix, roc_curve, auc\n",
    "\n",
    "import matplotlib.pyplot as plt #Plots\n",
    "import matplotlib.colors # For nice colours\n",
    "import seaborn #Makes plots look nice, also heatmaps\n",
    "\n",
    "import nltk #For tokenizing and normalizing\n",
    "import numpy as np #arrays\n",
    "import pandas as pd\n",
    "import scipy as sp #for interp\n",
    "\n",
    "#These are from the standard library\n",
    "import collections\n",
    "import os\n",
    "import os.path\n",
    "import random\n",
    "import re\n",
    "import glob\n",
    "import pandas\n",
    "import requests\n",
    "import json\n",
    "import math\n",
    "import jieba\n",
    "\n",
    "import itertools\n",
    "\n",
    "#This 'magic' command makes the plots work better\n",
    "#in the notebook, don't use it outside of a notebook.\n",
    "#Also you can ignore the warning\n",
    "%matplotlib inline\n"
   ]
  },
  {
   "cell_type": "markdown",
   "metadata": {},
   "source": [
    "<span style=\"color:green\"> In this assignment, my main goal is to use gender-related content of the novels to classify the novels into male and female-novels. \n",
    "\n",
    "<span style=\"color:green\"> **Rationale:**\n",
    "\n",
    "<span style=\"color:green\"> The true labels come from the way I scrape my data. The ones scraped from the male branch of the web fiction website have the label \"male\", the ons scraped from the female branch have the label \"female\". Classifying *the whole novel* is not intresting because I already have the true labels. Even if I classify the novels 100% correct, I do not get any extra information. Therefore, I choose to work on the *gender-related content* because this would in line with my previous analysis:\n",
    "\n",
    "<span style=\"color:green\"> In the previous assignment on word embedding, I suggested that the \"he\" and \"she\" characters are portrayed differently in male and female novels. I think the classification task can be one way to validate this finding. For each novel, I collect the local contexts of gender words by excerpting a 5-word window (5 on the left+ 5 on the right) next to each gender word (\"he\", \"she\", \"boy\", \"girl\", \"man\", \"woman\") and I discard the rest of the novel. I use this gender-related content to classify the novels into male and female.   \n",
    "\n",
    "<span style=\"color:green\"> If I can successfully classify the novels, it tells me that the gender-related content is different for male and female novel and can be used to distinguish the two kinds of novels. I consider this as a confirmation of my interpretation of the previous finding."
   ]
  },
  {
   "cell_type": "code",
   "execution_count": 4,
   "metadata": {
    "collapsed": false
   },
   "outputs": [],
   "source": [
    "bookDF_male_tokenized= pd.read_pickle(\"bookDF_male_tokenized.pickle\")\n",
    "bookDF_female_tokenized= pd.read_pickle(\"bookDF_female_tokenized.pickle\")"
   ]
  },
  {
   "cell_type": "code",
   "execution_count": 2,
   "metadata": {
    "collapsed": true
   },
   "outputs": [],
   "source": [
    "col= [\"ch\"+str(i)+\"_clean\" for i in range(1,31)]"
   ]
  },
  {
   "cell_type": "code",
   "execution_count": 5,
   "metadata": {
    "collapsed": false
   },
   "outputs": [],
   "source": [
    "bookDF_both= pd.concat([bookDF_male_tokenized[col], bookDF_female_tokenized[col]], axis= 0)\n",
    "bookDF_both[\"gender\"]= [1]*500+ [0]*500\n",
    "#bookDF_both"
   ]
  },
  {
   "cell_type": "code",
   "execution_count": 10,
   "metadata": {
    "collapsed": true
   },
   "outputs": [],
   "source": [
    "bookDF_both.to_pickle(\"bookDF_both.pickle\")"
   ]
  },
  {
   "cell_type": "code",
   "execution_count": 3,
   "metadata": {
    "collapsed": false
   },
   "outputs": [],
   "source": [
    "col= [\"ch\"+str(i)+\"_clean\" for i in range(1,31)]\n",
    "bookDF_both= pd.read_pickle(\"bookDF_both.pickle\")"
   ]
  },
  {
   "cell_type": "markdown",
   "metadata": {},
   "source": [
    "#### <span style=\"color:green\"> Preprocessing"
   ]
  },
  {
   "cell_type": "markdown",
   "metadata": {
    "collapsed": true
   },
   "source": [
    "<span style=\"color:green\"> I will first collapse the 30 chapters (30 row) into one (30 lists into one lists). "
   ]
  },
  {
   "cell_type": "code",
   "execution_count": 4,
   "metadata": {
    "collapsed": false
   },
   "outputs": [],
   "source": [
    "#Collapse the 30 chapters into one\n",
    "\n",
    "collapsed_ch_1000= []\n",
    "for i in range(bookDF_both.shape[0]):\n",
    "    a_book= bookDF_both.iloc[i]\n",
    "    collapsed_ch= []\n",
    "    for c in col:\n",
    "        collapsed_ch+= a_book[c]\n",
    "    collapsed_ch_1000+= [collapsed_ch]  \n"
   ]
  },
  {
   "cell_type": "markdown",
   "metadata": {},
   "source": [
    "<span style=\"color:green\"> Then I gathered the window next to \"她\" \"他\" \"女孩\" \"男孩\" \"女人\" \"男人\" \"女\" \"男\"\n",
    "\n",
    "<span style=\"color:green\"> *Side Comment:* I tested the results of using three sets of target words to excerpt windows. I used logistic regression as the classifier because it is the best classifier (as demonstrated below). The input matrix is 150 PCA factors extracted from document-wordcount matrix.  \n",
    "\n",
    "    [\"她\", \"他\", \"女孩\", \"小女孩\", \"男孩\", \"小男孩\", \"女人\", \"男人\", \"女\", \"男\", \"少年\", \"少女\"] \n",
    "    --> 92% averaged 10-fold accuracy \n",
    " \n",
    "    [\"她\", \"女孩\", \"小女孩\", \"女人\", \"女\", \"少女\"] \n",
    "    --> 93% averaged 10-fold accuracy \n",
    "\n",
    "    [\"他\" \"男孩\", \"小男孩\", \"男人\", \"男\", \"少年\"] \n",
    "    --> 79% averaged 10-fold accuracy \n",
    "    \n",
    "<span style=\"color:green\"> Female-realted contexts are better features than male-related context. "
   ]
  },
  {
   "cell_type": "code",
   "execution_count": 17,
   "metadata": {
    "collapsed": false
   },
   "outputs": [
    {
     "name": "stdout",
     "output_type": "stream",
     "text": [
      "小/女人/和/小/男人\n",
      "小女孩/和/小男孩\n"
     ]
    }
   ],
   "source": [
    "#Testing how jieba splits words, in order to set target words\n",
    "s= jieba.cut(\"小女人和小男人\", cut_all= False)\n",
    "print(\"/\".join(s))\n",
    "s= jieba.cut(\"小女孩和小男孩\", cut_all= False)\n",
    "print(\"/\".join(s))\n",
    "\n",
    "target= [\"她\", \"他\", \"女孩\", \"小女孩\", \"男孩\", \"小男孩\", \n",
    "         \"女人\", \"男人\", \"女\", \"男\", \"少年\", \"少女\"]\n",
    "\n",
    "#target= [\"她\", \"女孩\", \"小女孩\",\n",
    "#         \"女人\", \"女\", \"少女\"]\n",
    "\n",
    "#target= [\"他\" \"男孩\", \"小男孩\", \n",
    "#         \"男人\", \"男\", \"少年\"]"
   ]
  },
  {
   "cell_type": "code",
   "execution_count": 18,
   "metadata": {
    "collapsed": false
   },
   "outputs": [
    {
     "data": {
      "text/plain": [
       "1000"
      ]
     },
     "execution_count": 18,
     "metadata": {},
     "output_type": "execute_result"
    }
   ],
   "source": [
    "#Get the 5-word windows next to the target words. \n",
    "#This is NOT ideal! There are repetitions! \n",
    "#For example, if 她 and 他 occur close to each other, the code below  \n",
    "#would get a window for 她 and another window for 他, which results in repetition.\n",
    "w= 5\n",
    "windows_1000= []\n",
    "for book in collapsed_ch_1000:\n",
    "    windows= []\n",
    "    for i in range(len(book)):\n",
    "        if book[i] in target:\n",
    "            if i< w:\n",
    "                window= book[0: i+w+1]\n",
    "                windows+= window\n",
    "            else:\n",
    "                window= book[i-w:i+w+1]\n",
    "                windows+= window\n",
    "    windows_1000+= [windows]\n",
    "len(windows_1000)"
   ]
  },
  {
   "cell_type": "code",
   "execution_count": 19,
   "metadata": {
    "collapsed": false
   },
   "outputs": [],
   "source": [
    "clf_DF= pd.DataFrame({\"gender_words\": windows_1000})\n",
    "clf_DF[\"gender\"]= [1]*500+ [0]*500\n",
    "clf_DF[\"gender_string\"]= clf_DF[\"gender_words\"].apply(lambda x: \" \".join(x))\n",
    "#clf_DF"
   ]
  },
  {
   "cell_type": "markdown",
   "metadata": {},
   "source": [
    "## <span style=\"color:red\">*Exercise 1*</span>\n",
    "\n",
    "<span style=\"color:red\">Go back through all of the cells above and generate 10 distinct artificial datasets and classify them with all of the available methods. Add a cell immediately below and describe which classifier(s) worked best with which artificially constructed data source and why. Then go through all of the empirical datasets (i.e., Newsgroups, Senate Small, Senate Large, Email Spam) and classify them with all available methods. Add a second cell immediately below and describe which classifier(s) worked best with which data set and why.\n",
    "\n",
    "<span style=\"color:red\">***Stretch*** (but also required) Wander through the SKLearn documentation available [here](http://scikit-learn.org/stable/), particularly perusing the classifiers. In cells following, identify and implement a new classifier that we have not yet used (e.g., AdaBoost, CART) on one artificial dataset and one real dataset (used above). Then, in the next cell describe the classifier, detail how it compares with the approaches above, and why it performed better or worse than others."
   ]
  },
  {
   "cell_type": "markdown",
   "metadata": {},
   "source": [
    "<span style=\"color:green\"> SVC's \"linear\", linear regression, naive bayses are all linear model. They are not suitable for classifying data that are not linearly separable. \n",
    "\n",
    "<span style=\"color:green\"> KNN, decision tree, random forest, SVC's \"rbf\", neural network, and ensemble model are good when the boundary is not linear.  \n",
    "\n",
    "<span style=\"color:green\"> My personal favoriate is SVC (\"rbf\"). I think it is really interesting that it can add an extra dimension (e.g., from 2-dimension to 3-dimension) to separate the originally not separable data.  \n",
    "\n",
    "<span style=\"color:green\"> But of course the problem is that I often do not know the structure of the data. `plotregions()` reduces the data to two dimensions using PCA. If I understand this correctly, a two-dimensional representation does not tell me the structure of a high-dimensional dataset. I guess I would need to trial and error for the appropriate model. "
   ]
  },
  {
   "cell_type": "markdown",
   "metadata": {},
   "source": [
    "## <span style=\"color:red\">*Exercise 2*</span>\n",
    "\n",
    "<span style=\"color:red\">In the cells immediately following, perform Logistic and Naïve Bayes classification (binary or multinomial) using training, testing and extrapolation (uncoded) data from texts and hand-classifications associated with your final project (e.g., these could be crowd-sourced codes gathered through Amazon Mechanical Turk last week). Visualize the confusion matrix for training and testing sets. Calculate precision, recall, the F-measure, and AUC, then perform an ROC visualization. How do these classifiers perform? Exrapolate codes from these models to all uncoded data."
   ]
  },
  {
   "cell_type": "markdown",
   "metadata": {},
   "source": [
    "#### <span style=\"color:green\"> Extracting features in different ways: \n",
    "\n",
    "    1. Only utilizing the target words (which is 12 features for each novel)\n",
    "\n",
    "    2. Utilizing the windows around the target words \n",
    "        2.1. tf-idf's 800 best features\n",
    "        2.2. countvectorizer + pca\n",
    "    "
   ]
  },
  {
   "cell_type": "markdown",
   "metadata": {},
   "source": [
    "##### <span style=\"color:green\"> 1. Only utilizing the target words (which is 12 features for each novel)\n",
    "\n",
    "<span style=\"color:green\"> Even just the occurance of the gender words can classify the novels into male and female novels fairly well. This is expected becuase, for example, \"he\" occurs 5 times more likely than \"she\" in male novels, but \"he\" occurs a similar amount of time as \"she\" in female novels. "
   ]
  },
  {
   "cell_type": "code",
   "execution_count": 29,
   "metadata": {
    "collapsed": false
   },
   "outputs": [
    {
     "data": {
      "text/html": [
       "<div>\n",
       "<style scoped>\n",
       "    .dataframe tbody tr th:only-of-type {\n",
       "        vertical-align: middle;\n",
       "    }\n",
       "\n",
       "    .dataframe tbody tr th {\n",
       "        vertical-align: top;\n",
       "    }\n",
       "\n",
       "    .dataframe thead th {\n",
       "        text-align: right;\n",
       "    }\n",
       "</style>\n",
       "<table border=\"1\" class=\"dataframe\">\n",
       "  <thead>\n",
       "    <tr style=\"text-align: right;\">\n",
       "      <th></th>\n",
       "      <th>test_accuracy</th>\n",
       "      <th>test_f1</th>\n",
       "      <th>test_precision</th>\n",
       "      <th>test_recall</th>\n",
       "      <th>train_accuracy</th>\n",
       "      <th>train_f1</th>\n",
       "      <th>train_precision</th>\n",
       "      <th>train_recall</th>\n",
       "    </tr>\n",
       "  </thead>\n",
       "  <tbody>\n",
       "    <tr>\n",
       "      <th>0</th>\n",
       "      <td>0.67</td>\n",
       "      <td>0.717949</td>\n",
       "      <td>0.626866</td>\n",
       "      <td>0.840000</td>\n",
       "      <td>0.720000</td>\n",
       "      <td>0.750495</td>\n",
       "      <td>0.676786</td>\n",
       "      <td>0.842222</td>\n",
       "    </tr>\n",
       "    <tr>\n",
       "      <th>1</th>\n",
       "      <td>0.78</td>\n",
       "      <td>0.810345</td>\n",
       "      <td>0.712121</td>\n",
       "      <td>0.940000</td>\n",
       "      <td>0.713333</td>\n",
       "      <td>0.742515</td>\n",
       "      <td>0.673913</td>\n",
       "      <td>0.826667</td>\n",
       "    </tr>\n",
       "    <tr>\n",
       "      <th>2</th>\n",
       "      <td>0.71</td>\n",
       "      <td>0.733945</td>\n",
       "      <td>0.701754</td>\n",
       "      <td>0.769231</td>\n",
       "      <td>0.721111</td>\n",
       "      <td>0.749251</td>\n",
       "      <td>0.678119</td>\n",
       "      <td>0.837054</td>\n",
       "    </tr>\n",
       "    <tr>\n",
       "      <th>3</th>\n",
       "      <td>0.74</td>\n",
       "      <td>0.796875</td>\n",
       "      <td>0.698630</td>\n",
       "      <td>0.927273</td>\n",
       "      <td>0.722222</td>\n",
       "      <td>0.747475</td>\n",
       "      <td>0.678899</td>\n",
       "      <td>0.831461</td>\n",
       "    </tr>\n",
       "    <tr>\n",
       "      <th>4</th>\n",
       "      <td>0.77</td>\n",
       "      <td>0.796460</td>\n",
       "      <td>0.737705</td>\n",
       "      <td>0.865385</td>\n",
       "      <td>0.721111</td>\n",
       "      <td>0.747231</td>\n",
       "      <td>0.680734</td>\n",
       "      <td>0.828125</td>\n",
       "    </tr>\n",
       "    <tr>\n",
       "      <th>5</th>\n",
       "      <td>0.77</td>\n",
       "      <td>0.803419</td>\n",
       "      <td>0.770492</td>\n",
       "      <td>0.839286</td>\n",
       "      <td>0.714444</td>\n",
       "      <td>0.740666</td>\n",
       "      <td>0.670932</td>\n",
       "      <td>0.826577</td>\n",
       "    </tr>\n",
       "    <tr>\n",
       "      <th>6</th>\n",
       "      <td>0.63</td>\n",
       "      <td>0.654206</td>\n",
       "      <td>0.530303</td>\n",
       "      <td>0.853659</td>\n",
       "      <td>0.718889</td>\n",
       "      <td>0.755082</td>\n",
       "      <td>0.679443</td>\n",
       "      <td>0.849673</td>\n",
       "    </tr>\n",
       "    <tr>\n",
       "      <th>7</th>\n",
       "      <td>0.69</td>\n",
       "      <td>0.680412</td>\n",
       "      <td>0.600000</td>\n",
       "      <td>0.785714</td>\n",
       "      <td>0.713333</td>\n",
       "      <td>0.750484</td>\n",
       "      <td>0.673611</td>\n",
       "      <td>0.847162</td>\n",
       "    </tr>\n",
       "    <tr>\n",
       "      <th>8</th>\n",
       "      <td>0.68</td>\n",
       "      <td>0.698113</td>\n",
       "      <td>0.672727</td>\n",
       "      <td>0.725490</td>\n",
       "      <td>0.725556</td>\n",
       "      <td>0.754229</td>\n",
       "      <td>0.681655</td>\n",
       "      <td>0.844098</td>\n",
       "    </tr>\n",
       "    <tr>\n",
       "      <th>9</th>\n",
       "      <td>0.73</td>\n",
       "      <td>0.756757</td>\n",
       "      <td>0.700000</td>\n",
       "      <td>0.823529</td>\n",
       "      <td>0.722222</td>\n",
       "      <td>0.750499</td>\n",
       "      <td>0.679928</td>\n",
       "      <td>0.837416</td>\n",
       "    </tr>\n",
       "  </tbody>\n",
       "</table>\n",
       "</div>"
      ],
      "text/plain": [
       "   test_accuracy   test_f1  test_precision  test_recall  train_accuracy  \\\n",
       "0           0.67  0.717949        0.626866     0.840000        0.720000   \n",
       "1           0.78  0.810345        0.712121     0.940000        0.713333   \n",
       "2           0.71  0.733945        0.701754     0.769231        0.721111   \n",
       "3           0.74  0.796875        0.698630     0.927273        0.722222   \n",
       "4           0.77  0.796460        0.737705     0.865385        0.721111   \n",
       "5           0.77  0.803419        0.770492     0.839286        0.714444   \n",
       "6           0.63  0.654206        0.530303     0.853659        0.718889   \n",
       "7           0.69  0.680412        0.600000     0.785714        0.713333   \n",
       "8           0.68  0.698113        0.672727     0.725490        0.725556   \n",
       "9           0.73  0.756757        0.700000     0.823529        0.722222   \n",
       "\n",
       "   train_f1  train_precision  train_recall  \n",
       "0  0.750495         0.676786      0.842222  \n",
       "1  0.742515         0.673913      0.826667  \n",
       "2  0.749251         0.678119      0.837054  \n",
       "3  0.747475         0.678899      0.831461  \n",
       "4  0.747231         0.680734      0.828125  \n",
       "5  0.740666         0.670932      0.826577  \n",
       "6  0.755082         0.679443      0.849673  \n",
       "7  0.750484         0.673611      0.847162  \n",
       "8  0.754229         0.681655      0.844098  \n",
       "9  0.750499         0.679928      0.837416  "
      ]
     },
     "execution_count": 29,
     "metadata": {},
     "output_type": "execute_result"
    }
   ],
   "source": [
    "def cross_val_target(X, y, clf):\n",
    "    train_accuracy= []\n",
    "    test_accuracy= []\n",
    "    \n",
    "    train_precision= []\n",
    "    test_precision= []\n",
    "    \n",
    "    train_recall= []\n",
    "    test_recall= []\n",
    "    \n",
    "    train_f1= []\n",
    "    test_f1= []\n",
    "    \n",
    "    kf = KFold(n_splits=10, shuffle= True)\n",
    "    \n",
    "    for train_index, test_index in kf.split(X):\n",
    "\n",
    "        X_train_string, X_test_string = X[train_index], X[test_index]\n",
    "        y_train, y_test = y[train_index], y[test_index]\n",
    "\n",
    "\n",
    "        vectorizer= sklearn.feature_extraction.text.CountVectorizer(vocabulary= [\"她\", \"他\", \n",
    "                                                                                 \"女孩\", \"小女孩\", \n",
    "                                                                                 \"男孩\", \"小男孩\", \n",
    "                                                                                 \"女人\", \"男人\", \n",
    "                                                                                 \"女\", \"男\", \n",
    "                                                                                 \"少年\", \"少女\"])\n",
    "        X_train_wordfeq= vectorizer.fit_transform(X_train_string)\n",
    "        X_test_wordfeq= vectorizer.transform(X_test_string)\n",
    "    \n",
    "        #Fitting the classifier, clf is defined outside of this function\n",
    "        clf.fit(X_train_wordfeq, y_train)\n",
    "        \n",
    "        y_train_pred= clf.predict(X_train_wordfeq)\n",
    "        y_test_pred= clf.predict(X_test_wordfeq)\n",
    "        \n",
    "        ##Accuracy score of training and test set\n",
    "        \n",
    "        train_accuracy+= [accuracy_score(y_train, y_train_pred)]\n",
    "        test_accuracy+= [accuracy_score(y_test, y_test_pred)]\n",
    "        \n",
    "        ##Precision score of training and test set\n",
    "        train_precision+= [precision_score(y_train, y_train_pred)]\n",
    "        test_precision+= [precision_score(y_test, y_test_pred)]\n",
    "        \n",
    "        ##Recall score of training and test set\n",
    "        train_recall+= [recall_score(y_train, y_train_pred)]\n",
    "        test_recall+= [recall_score(y_test, y_test_pred)]\n",
    "        \n",
    "        ##F1 score of training and test set\n",
    "        train_f1+= [f1_score(y_train, y_train_pred)]\n",
    "        test_f1+= [f1_score(y_test, y_test_pred)]\n",
    "        \n",
    "    summaryDF= pd.DataFrame({\"train_accuracy\": train_accuracy,\n",
    "                             \"test_accuracy\": test_accuracy,\n",
    "                             \"train_precision\": train_precision,\n",
    "                             \"test_precision\": test_precision,\n",
    "                             \"train_recall\": train_recall,\n",
    "                             \"test_recall\": test_recall,\n",
    "                             \"train_f1\": train_f1,\n",
    "                             \"test_f1\": test_f1})\n",
    "    \n",
    "    \n",
    "    return summaryDF\n",
    "\n",
    "X= clf_DF[\"gender_string\"]\n",
    "y= clf_DF[\"gender\"]\n",
    "\n",
    "clf_lr = sklearn.linear_model.LogisticRegression()\n",
    "cross_val_target(X, y, clf_lr)"
   ]
  },
  {
   "cell_type": "markdown",
   "metadata": {},
   "source": [
    "##### <span style=\"color:green\"> 2. Utilizing the windows around the target words \n",
    "##### <span style=\"color:green\"> 2.1. tf-idf's 800 best features"
   ]
  },
  {
   "cell_type": "markdown",
   "metadata": {},
   "source": [
    "<span style=\"color:green\"> TF-idf above extract 800 most informative features for me. I further use PCA to reduce the 800 feature to 2 dimensions, then plot the data's projection on the two dimensions. From the plot below, I can see that the male and female novels are quite separatable on only two PCA dimensions, although not cleanly. "
   ]
  },
  {
   "cell_type": "code",
   "execution_count": 8,
   "metadata": {
    "collapsed": false
   },
   "outputs": [],
   "source": [
    "X_train_string, X_test_string, y_train, y_test= train_test_split(clf_DF[\"gender_string\"], clf_DF[\"gender\"], test_size= 0.1)"
   ]
  },
  {
   "cell_type": "code",
   "execution_count": 9,
   "metadata": {
    "collapsed": false
   },
   "outputs": [],
   "source": [
    "vectorizer = sklearn.feature_extraction.text.TfidfVectorizer(max_df=0.5, max_features=800, min_df=3)\n",
    "X_train = vectorizer.fit_transform(X_train_string)\n",
    "X_test= vectorizer.transform(X_test_string)"
   ]
  },
  {
   "cell_type": "code",
   "execution_count": 10,
   "metadata": {
    "collapsed": false
   },
   "outputs": [
    {
     "data": {
      "image/png": "[encoded data removed]",
      "text/plain": [
       "<matplotlib.figure.Figure at 0x1cac061d0>"
      ]
     },
     "metadata": {},
     "output_type": "display_data"
    }
   ],
   "source": [
    "#Plot data's projection on two dimensions. \n",
    "#This is a simplified visualization to see if the data are separatable on a two-dimensional space. \n",
    "\n",
    "def plotter(X, y):\n",
    "    fig, ax = plt.subplots(figsize = (5,5))\n",
    "    \n",
    "    pca = sklearn.decomposition.PCA(n_components = 2)\n",
    "    reduced_data = pca.fit_transform(X.toarray())\n",
    "    transformedDF = pandas.DataFrame({'vect' : [r for r in reduced_data], 'category' : y})\n",
    "\n",
    "    \n",
    "    pallet = seaborn.color_palette(palette='rainbow', n_colors= len(set(transformedDF['category'])))\n",
    "    \n",
    "    for i, cat in enumerate(set(transformedDF['category'])):\n",
    "        a = np.stack(transformedDF['vect'][transformedDF['category'] == cat])\n",
    "        ax.scatter(a[:,0], a[:, 1], c = pallet[i], label = cat)\n",
    "    ax.legend(loc = 'center right', title = 'Categories')\n",
    "    ax.axis('off')\n",
    "    plt.show()\n",
    "    plt.close()\n",
    "    \n",
    "plotter(X_train, y_train)"
   ]
  },
  {
   "cell_type": "markdown",
   "metadata": {},
   "source": [
    "<span style=\"color:green\"> I use 10-fold cross validation to test the performance of all classifier, including logistic regression and naive bayes. \n",
    "\n",
    "<span style=\"color:green\"> I get pretty high accuracy score (both training set and test set) out of 10-fold cross validation. At the first sight, this seems to be an easy classification task so it doesn't really matter what classifier I choose. (*Note.* I do not plot confusion matrix becuase the PCA feature extraction shown below works better, so I evaulate model performance more in the next section.)"
   ]
  },
  {
   "cell_type": "code",
   "execution_count": 20,
   "metadata": {
    "collapsed": false
   },
   "outputs": [],
   "source": [
    "#10-fold cross validation\n",
    "def cross_val(X, y, clf):\n",
    "    train_accuracy= []\n",
    "    test_accuracy= []\n",
    "    kf = KFold(n_splits=10, shuffle= True)\n",
    "    for train_index, test_index in kf.split(X):\n",
    "\n",
    "        X_train_string, X_test_string = X[train_index], X[test_index]\n",
    "        y_train, y_test = y[train_index], y[test_index]\n",
    "\n",
    "        #print(train_index)\n",
    "\n",
    "        vectorizer = sklearn.feature_extraction.text.TfidfVectorizer(max_df=0.5, max_features=800, min_df=3)\n",
    "        X_train = vectorizer.fit_transform(X_train_string)\n",
    "        X_test= vectorizer.transform(X_test_string)\n",
    "\n",
    "        #Fitting the classifier, clf is defined outside of this function\n",
    "        clf.fit(X_train.toarray(), y_train)\n",
    "\n",
    "        y_train_pred= clf.predict(X_train.toarray())\n",
    "        #print(accuracy_score(y_train, y_train_pred))\n",
    "        train_accuracy+= [accuracy_score(y_train, y_train_pred)]\n",
    "\n",
    "        y_test_pred= clf.predict(X_test.toarray())\n",
    "        #print(accuracy_score(y_test, y_test_pred))\n",
    "        test_accuracy+= [accuracy_score(y_test, y_test_pred)]\n",
    "    return train_accuracy, test_accuracy\n",
    "\n"
   ]
  },
  {
   "cell_type": "code",
   "execution_count": 21,
   "metadata": {
    "collapsed": true
   },
   "outputs": [],
   "source": [
    "X= clf_DF[\"gender_string\"]\n",
    "y= clf_DF[\"gender\"]"
   ]
  },
  {
   "cell_type": "code",
   "execution_count": 22,
   "metadata": {
    "collapsed": false
   },
   "outputs": [],
   "source": [
    "clf_naive = sklearn.naive_bayes.GaussianNB()\n",
    "clf_SVClinear = sklearn.svm.SVC(kernel = 'linear', probability = True) \n",
    "clf_SVCrbf = sklearn.svm.SVC(kernel = 'rbf', degree = 3, probability = True) \n",
    "clf_KNN = sklearn.neighbors.KNeighborsClassifier(5, weights='distance')\n",
    "clf_lr = sklearn.linear_model.LogisticRegression()\n",
    "clf_tree = sklearn.tree.DecisionTreeClassifier()\n",
    "clf_forest = sklearn.ensemble.RandomForestClassifier()\n",
    "clf_neural = sklearn.neural_network.MLPClassifier()\n",
    "clf_ensemble = sklearn.ensemble.GradientBoostingClassifier()\n",
    "\n",
    "clf_collection= {\"clf_naive\": clf_naive, \"clf_lr\": clf_lr,\n",
    "                \"clf_SVClinear\": clf_SVClinear,\n",
    "                \"clf_SVCrbf\": clf_SVCrbf, \"clf_KNN\": clf_KNN, \"clf_tree\": clf_tree,\n",
    "                \"clf_forest\": clf_forest, \"clf_neural\": clf_neural, \"clf_ensemble\": clf_ensemble}"
   ]
  },
  {
   "cell_type": "code",
   "execution_count": 23,
   "metadata": {
    "collapsed": false
   },
   "outputs": [
    {
     "name": "stdout",
     "output_type": "stream",
     "text": [
      "classifier: clf_naive\n",
      "average training set accuracy: 0.874333333333\n",
      "average test set accuracy: 0.838\n",
      "\n",
      "classifier: clf_KNN\n",
      "average training set accuracy: 1.0\n",
      "average test set accuracy: 0.779\n",
      "\n",
      "classifier: clf_forest\n",
      "average training set accuracy: 0.996555555556\n",
      "average test set accuracy: 0.853\n",
      "\n",
      "classifier: clf_ensemble\n",
      "average training set accuracy: 1.0\n",
      "average test set accuracy: 0.898\n",
      "\n",
      "classifier: clf_SVCrbf\n",
      "average training set accuracy: 0.569555555556\n",
      "average test set accuracy: 0.538\n",
      "\n",
      "classifier: clf_neural\n",
      "average training set accuracy: 1.0\n",
      "average test set accuracy: 0.906\n",
      "\n",
      "classifier: clf_SVClinear\n",
      "average training set accuracy: 0.960333333333\n",
      "average test set accuracy: 0.896\n",
      "\n",
      "classifier: clf_lr\n",
      "average training set accuracy: 0.924222222222\n",
      "average test set accuracy: 0.879\n",
      "\n",
      "classifier: clf_tree\n",
      "average training set accuracy: 1.0\n",
      "average test set accuracy: 0.742\n",
      "\n"
     ]
    }
   ],
   "source": [
    "for name, clf in clf_collection.items():\n",
    "\n",
    "    train_accuracy, test_accuracy= cross_val(X, y, clf)\n",
    "    \n",
    "    print(\"classifier:\", name)\n",
    "    print(\"average training set accuracy:\", np.mean(train_accuracy))\n",
    "    print(\"average test set accuracy:\", np.mean(test_accuracy))\n",
    "    print()"
   ]
  },
  {
   "cell_type": "markdown",
   "metadata": {},
   "source": [
    "##### <span style=\"color:green\"> 2.2. CountVectorizer + pca\n",
    "\n",
    "<span style=\"color:green\"> Rather than combining tf-idf feature weighting with PCA, I perform the simple CountVectorizer to calculat the frequency of each words, then use PCA to extract features out of the plain word-frequency count. "
   ]
  },
  {
   "cell_type": "markdown",
   "metadata": {},
   "source": [
    "<span style=\"color:green\"> I first make one split of the dataset "
   ]
  },
  {
   "cell_type": "code",
   "execution_count": 31,
   "metadata": {
    "collapsed": false
   },
   "outputs": [],
   "source": [
    "X_train_string, X_test_string, y_train, y_test= train_test_split(clf_DF[\"gender_string\"], clf_DF[\"gender\"], test_size= 0.1)"
   ]
  },
  {
   "cell_type": "code",
   "execution_count": 32,
   "metadata": {
    "collapsed": false
   },
   "outputs": [],
   "source": [
    "vectorizer= sklearn.feature_extraction.text.CountVectorizer()\n",
    "X_train_wordfeq= vectorizer.fit_transform(X_train_string)\n",
    "X_test_wordfeq= vectorizer.transform(X_test_string)"
   ]
  },
  {
   "cell_type": "code",
   "execution_count": 33,
   "metadata": {
    "collapsed": false
   },
   "outputs": [],
   "source": [
    "pca = sklearn.decomposition.PCA(n_components = 200)\n",
    "X_train = pca.fit_transform(X_train_wordfeq.toarray())\n",
    "X_test= pca.transform(X_test_wordfeq.toarray())\n"
   ]
  },
  {
   "cell_type": "markdown",
   "metadata": {},
   "source": [
    "<span style=\"color:green\"> I test \n",
    "\n",
    "    1) which classifier works the best with the pca factors? \n",
    "    2) Out of 200 PCA factors, how many should be included in the classification model?\n",
    "\n",
    "<span style=\"color:green\"> --> Considering the generalization from training set to test set, logistic regression work the best with 150 factors. "
   ]
  },
  {
   "cell_type": "code",
   "execution_count": 34,
   "metadata": {
    "collapsed": false
   },
   "outputs": [
    {
     "name": "stdout",
     "output_type": "stream",
     "text": [
      "classifier: clf_lr\n",
      "50\n",
      "training's accuracy:  0.953333333333\n",
      "testing's accuracy:  0.92\n",
      "100\n",
      "training's accuracy:  0.97\n",
      "testing's accuracy:  0.94\n",
      "150\n",
      "training's accuracy:  0.968888888889\n",
      "testing's accuracy:  0.93\n",
      "200\n",
      "training's accuracy:  0.987777777778\n",
      "testing's accuracy:  0.91\n",
      "\n",
      "classifier: clf_naive\n",
      "50\n",
      "training's accuracy:  0.768888888889\n",
      "testing's accuracy:  0.75\n",
      "100\n",
      "training's accuracy:  0.772222222222\n",
      "testing's accuracy:  0.73\n",
      "150\n",
      "training's accuracy:  0.783333333333\n",
      "testing's accuracy:  0.7\n",
      "200\n",
      "training's accuracy:  0.792222222222\n",
      "testing's accuracy:  0.69\n",
      "\n"
     ]
    }
   ],
   "source": [
    "clf_collection= {\"clf_naive\": clf_naive, \"clf_lr\": clf_lr}\n",
    "#\"clf_SVClinear\": clf_SVClinear,\n",
    "#\"clf_SVCrbf\": clf_SVCrbf, \"clf_KNN\": clf_KNN, \"clf_tree\": clf_tree,\n",
    "#\"clf_forest\": clf_forest, \"clf_neural\": clf_neural, \"clf_ensemble\": clf_ensemble\n",
    "\n",
    "for name, clf in clf_collection.items():      \n",
    "        print(\"classifier:\", name)     \n",
    "        for i in [50, 100, 150, 200]:\n",
    "            print(i)      \n",
    "            clf.fit(X_train[:, :i], y_train)\n",
    "\n",
    "            y_train_pred= clf.predict(X_train[:, :i])\n",
    "            print(\"training's accuracy: \", accuracy_score(y_train, y_train_pred))\n",
    "\n",
    "            y_test_pred= clf.predict(X_test[:, :i])\n",
    "            print(\"testing's accuracy: \", accuracy_score(y_test, y_test_pred))\n",
    "        print()    "
   ]
  },
  {
   "cell_type": "code",
   "execution_count": 18,
   "metadata": {
    "collapsed": false
   },
   "outputs": [],
   "source": [
    "clf_lr.fit(X_train[:, :150], y_train)\n",
    "\n",
    "y_train_pred= clf_lr.predict(X_train[:, :150])\n",
    "#print(\"training's accuracy: \", accuracy_score(y_train, y_train_pred))\n",
    "\n",
    "y_test_pred= clf_lr.predict(X_test[:, :150])\n",
    "#print(\"testing's accuracy: \", accuracy_score(y_test, y_test_pred))"
   ]
  },
  {
   "cell_type": "code",
   "execution_count": 21,
   "metadata": {
    "collapsed": false
   },
   "outputs": [
    {
     "name": "stdout",
     "output_type": "stream",
     "text": [
      "Confusion matrix, without normalization\n",
      "[[46  5]\n",
      " [ 3 46]]\n",
      "Normalized confusion matrix\n",
      "[[ 0.9   0.1 ]\n",
      " [ 0.06  0.94]]\n"
     ]
    },
    {
     "data": {
      "image/png": "[encoded data removed]",
      "text/plain": [
       "<matplotlib.figure.Figure at 0x1ca162be0>"
      ]
     },
     "metadata": {},
     "output_type": "display_data"
    },
    {
     "data": {
      "image/png": "[encoded data removed]",
      "text/plain": [
       "<matplotlib.figure.Figure at 0x1cb2c8ba8>"
      ]
     },
     "metadata": {},
     "output_type": "display_data"
    }
   ],
   "source": [
    "def plot_confusion_matrix(cm, classes,\n",
    "                          normalize=False,\n",
    "                          title='Confusion matrix',\n",
    "                          cmap=plt.cm.Blues):\n",
    "    \"\"\"\n",
    "    This function prints and plots the confusion matrix.\n",
    "    Normalization can be applied by setting `normalize=True`.\n",
    "    \"\"\"\n",
    "    if normalize:\n",
    "        cm = cm.astype('float') / cm.sum(axis=1)[:, np.newaxis]\n",
    "        print(\"Normalized confusion matrix\")\n",
    "    else:\n",
    "        print('Confusion matrix, without normalization')\n",
    "\n",
    "    print(cm)\n",
    "\n",
    "    plt.imshow(cm, interpolation='nearest', cmap=cmap)\n",
    "    plt.title(title)\n",
    "    plt.colorbar()\n",
    "    tick_marks = np.arange(len(classes))\n",
    "    plt.xticks(tick_marks, classes, rotation=45)\n",
    "    plt.yticks(tick_marks, classes)\n",
    "\n",
    "    fmt = '.2f' if normalize else 'd'\n",
    "    thresh = cm.max() / 2.\n",
    "    for i, j in itertools.product(range(cm.shape[0]), range(cm.shape[1])):\n",
    "        plt.text(j, i, format(cm[i, j], fmt),\n",
    "                 horizontalalignment=\"center\",\n",
    "                 color=\"white\" if cm[i, j] > thresh else \"black\")\n",
    "\n",
    "    plt.tight_layout()\n",
    "    plt.ylabel('True label')\n",
    "    plt.xlabel('Predicted label')\n",
    "\n",
    "# Compute confusion matrix\n",
    "cnf_matrix = confusion_matrix(y_test, y_test_pred)\n",
    "np.set_printoptions(precision=2)\n",
    "\n",
    "# Plot non-normalized confusion matrix\n",
    "plt.figure()\n",
    "class_names= np.array([\"female\", \"male\"])\n",
    "plot_confusion_matrix(cnf_matrix, classes=class_names,\n",
    "                      title='Confusion matrix, without normalization')\n",
    "\n",
    "# Plot normalized confusion matrix\n",
    "plt.figure()\n",
    "plot_confusion_matrix(cnf_matrix, classes=class_names, normalize=True,\n",
    "                      title='Normalized confusion matrix')\n",
    "\n",
    "plt.show()"
   ]
  },
  {
   "cell_type": "markdown",
   "metadata": {},
   "source": [
    "<span style=\"color:green\"> For the logistic regression, what's its performance in 10-fold cross validation?"
   ]
  },
  {
   "cell_type": "code",
   "execution_count": 41,
   "metadata": {
    "collapsed": true
   },
   "outputs": [],
   "source": [
    "def cross_val_pca(X, y, clf):\n",
    "    train_accuracy= []\n",
    "    test_accuracy= []\n",
    "    \n",
    "    train_precision= []\n",
    "    test_precision= []\n",
    "\n",
    "    train_recall= []\n",
    "    test_recall= []\n",
    "    \n",
    "    train_f1= []\n",
    "    test_f1= []\n",
    "    \n",
    "    kf = KFold(n_splits=10, shuffle= True)\n",
    "    \n",
    "    for train_index, test_index in kf.split(X):\n",
    "\n",
    "        X_train_string, X_test_string = X[train_index], X[test_index]\n",
    "        y_train, y_test = y[train_index], y[test_index]\n",
    "\n",
    "\n",
    "        vectorizer= sklearn.feature_extraction.text.CountVectorizer()\n",
    "        X_train_wordfeq= vectorizer.fit_transform(X_train_string)\n",
    "        X_test_wordfeq= vectorizer.transform(X_test_string)\n",
    "\n",
    "        pca = sklearn.decomposition.PCA(n_components = 150)\n",
    "        X_train = pca.fit_transform(X_train_wordfeq.toarray())\n",
    "        X_test= pca.transform(X_test_wordfeq.toarray())\n",
    "        \n",
    "    \n",
    "        #Fitting the classifier, clf is defined outside of this function\n",
    "        clf.fit(X_train, y_train)\n",
    "        \n",
    "        y_train_pred= clf.predict(X_train)\n",
    "        y_test_pred= clf.predict(X_test)\n",
    "        \n",
    "        ##Accuracy score of training and test set\n",
    "        \n",
    "        train_accuracy+= [accuracy_score(y_train, y_train_pred)]\n",
    "        test_accuracy+= [accuracy_score(y_test, y_test_pred)]\n",
    "        \n",
    "        ##Precision score of training and test set\n",
    "        train_precision+= [precision_score(y_train, y_train_pred)]\n",
    "        test_precision+= [precision_score(y_test, y_test_pred)]\n",
    "        \n",
    "        ##Recall score of training and test set\n",
    "        train_recall+= [recall_score(y_train, y_train_pred)]\n",
    "        test_recall+= [recall_score(y_test, y_test_pred)]\n",
    "        \n",
    "        ##F1 score of training and test set\n",
    "        train_f1+= [f1_score(y_train, y_train_pred)]\n",
    "        test_f1+= [f1_score(y_test, y_test_pred)]\n",
    "        \n",
    "    summaryDF= pd.DataFrame({\"train_accuracy\": train_accuracy,\n",
    "                             \"test_accuracy\": test_accuracy,\n",
    "                             \"train_precision\": train_precision,\n",
    "                             \"test_precision\": test_precision,\n",
    "                             \"train_recall\": train_recall,\n",
    "                             \"test_recall\": test_recall,\n",
    "                             \"train_f1\": train_f1,\n",
    "                             \"test_f1\": test_f1})\n",
    "    \n",
    "    \n",
    "    return summaryDF"
   ]
  },
  {
   "cell_type": "code",
   "execution_count": 42,
   "metadata": {
    "collapsed": false,
    "scrolled": true
   },
   "outputs": [],
   "source": [
    "X= clf_DF[\"gender_string\"]\n",
    "y= clf_DF[\"gender\"]"
   ]
  },
  {
   "cell_type": "code",
   "execution_count": 43,
   "metadata": {
    "collapsed": false
   },
   "outputs": [
    {
     "data": {
      "text/html": [
       "<div>\n",
       "<style>\n",
       "    .dataframe thead tr:only-child th {\n",
       "        text-align: right;\n",
       "    }\n",
       "\n",
       "    .dataframe thead th {\n",
       "        text-align: left;\n",
       "    }\n",
       "\n",
       "    .dataframe tbody tr th {\n",
       "        vertical-align: top;\n",
       "    }\n",
       "</style>\n",
       "<table border=\"1\" class=\"dataframe\">\n",
       "  <thead>\n",
       "    <tr style=\"text-align: right;\">\n",
       "      <th></th>\n",
       "      <th>test_accuracy</th>\n",
       "      <th>test_f1</th>\n",
       "      <th>test_precision</th>\n",
       "      <th>test_recall</th>\n",
       "      <th>train_accuracy</th>\n",
       "      <th>train_f1</th>\n",
       "      <th>train_precision</th>\n",
       "      <th>train_recall</th>\n",
       "    </tr>\n",
       "  </thead>\n",
       "  <tbody>\n",
       "    <tr>\n",
       "      <th>0</th>\n",
       "      <td>0.75</td>\n",
       "      <td>0.766355</td>\n",
       "      <td>0.706897</td>\n",
       "      <td>0.836735</td>\n",
       "      <td>0.868889</td>\n",
       "      <td>0.873118</td>\n",
       "      <td>0.847599</td>\n",
       "      <td>0.900222</td>\n",
       "    </tr>\n",
       "    <tr>\n",
       "      <th>1</th>\n",
       "      <td>0.89</td>\n",
       "      <td>0.899083</td>\n",
       "      <td>0.875000</td>\n",
       "      <td>0.924528</td>\n",
       "      <td>0.862222</td>\n",
       "      <td>0.864035</td>\n",
       "      <td>0.847312</td>\n",
       "      <td>0.881432</td>\n",
       "    </tr>\n",
       "    <tr>\n",
       "      <th>2</th>\n",
       "      <td>0.73</td>\n",
       "      <td>0.747664</td>\n",
       "      <td>0.754717</td>\n",
       "      <td>0.740741</td>\n",
       "      <td>0.860000</td>\n",
       "      <td>0.860927</td>\n",
       "      <td>0.847826</td>\n",
       "      <td>0.874439</td>\n",
       "    </tr>\n",
       "    <tr>\n",
       "      <th>3</th>\n",
       "      <td>0.75</td>\n",
       "      <td>0.752475</td>\n",
       "      <td>0.745098</td>\n",
       "      <td>0.760000</td>\n",
       "      <td>0.868889</td>\n",
       "      <td>0.872294</td>\n",
       "      <td>0.850211</td>\n",
       "      <td>0.895556</td>\n",
       "    </tr>\n",
       "    <tr>\n",
       "      <th>4</th>\n",
       "      <td>0.81</td>\n",
       "      <td>0.815534</td>\n",
       "      <td>0.823529</td>\n",
       "      <td>0.807692</td>\n",
       "      <td>0.872222</td>\n",
       "      <td>0.874317</td>\n",
       "      <td>0.856531</td>\n",
       "      <td>0.892857</td>\n",
       "    </tr>\n",
       "    <tr>\n",
       "      <th>5</th>\n",
       "      <td>0.79</td>\n",
       "      <td>0.810811</td>\n",
       "      <td>0.833333</td>\n",
       "      <td>0.789474</td>\n",
       "      <td>0.857778</td>\n",
       "      <td>0.858093</td>\n",
       "      <td>0.843137</td>\n",
       "      <td>0.873589</td>\n",
       "    </tr>\n",
       "    <tr>\n",
       "      <th>6</th>\n",
       "      <td>0.71</td>\n",
       "      <td>0.718447</td>\n",
       "      <td>0.660714</td>\n",
       "      <td>0.787234</td>\n",
       "      <td>0.877778</td>\n",
       "      <td>0.880952</td>\n",
       "      <td>0.864119</td>\n",
       "      <td>0.898455</td>\n",
       "    </tr>\n",
       "    <tr>\n",
       "      <th>7</th>\n",
       "      <td>0.80</td>\n",
       "      <td>0.782609</td>\n",
       "      <td>0.800000</td>\n",
       "      <td>0.765957</td>\n",
       "      <td>0.858889</td>\n",
       "      <td>0.864171</td>\n",
       "      <td>0.838174</td>\n",
       "      <td>0.891832</td>\n",
       "    </tr>\n",
       "    <tr>\n",
       "      <th>8</th>\n",
       "      <td>0.80</td>\n",
       "      <td>0.807692</td>\n",
       "      <td>0.763636</td>\n",
       "      <td>0.857143</td>\n",
       "      <td>0.858889</td>\n",
       "      <td>0.861202</td>\n",
       "      <td>0.849138</td>\n",
       "      <td>0.873614</td>\n",
       "    </tr>\n",
       "    <tr>\n",
       "      <th>9</th>\n",
       "      <td>0.85</td>\n",
       "      <td>0.842105</td>\n",
       "      <td>0.754717</td>\n",
       "      <td>0.952381</td>\n",
       "      <td>0.865556</td>\n",
       "      <td>0.871686</td>\n",
       "      <td>0.847423</td>\n",
       "      <td>0.897380</td>\n",
       "    </tr>\n",
       "  </tbody>\n",
       "</table>\n",
       "</div>"
      ],
      "text/plain": [
       "   test_accuracy   test_f1  test_precision  test_recall  train_accuracy  \\\n",
       "0           0.75  0.766355        0.706897     0.836735        0.868889   \n",
       "1           0.89  0.899083        0.875000     0.924528        0.862222   \n",
       "2           0.73  0.747664        0.754717     0.740741        0.860000   \n",
       "3           0.75  0.752475        0.745098     0.760000        0.868889   \n",
       "4           0.81  0.815534        0.823529     0.807692        0.872222   \n",
       "5           0.79  0.810811        0.833333     0.789474        0.857778   \n",
       "6           0.71  0.718447        0.660714     0.787234        0.877778   \n",
       "7           0.80  0.782609        0.800000     0.765957        0.858889   \n",
       "8           0.80  0.807692        0.763636     0.857143        0.858889   \n",
       "9           0.85  0.842105        0.754717     0.952381        0.865556   \n",
       "\n",
       "   train_f1  train_precision  train_recall  \n",
       "0  0.873118         0.847599      0.900222  \n",
       "1  0.864035         0.847312      0.881432  \n",
       "2  0.860927         0.847826      0.874439  \n",
       "3  0.872294         0.850211      0.895556  \n",
       "4  0.874317         0.856531      0.892857  \n",
       "5  0.858093         0.843137      0.873589  \n",
       "6  0.880952         0.864119      0.898455  \n",
       "7  0.864171         0.838174      0.891832  \n",
       "8  0.861202         0.849138      0.873614  \n",
       "9  0.871686         0.847423      0.897380  "
      ]
     },
     "execution_count": 43,
     "metadata": {},
     "output_type": "execute_result"
    }
   ],
   "source": [
    "cross_val_pca(X, y, clf_lr)"
   ]
  },
  {
   "cell_type": "markdown",
   "metadata": {},
   "source": [
    "## <span style=\"color:red\">*Exercise 3*</span>\n",
    "\n",
    "<span style=\"color:red\">In the cells immediately following, perform decision tree and random forest classification (binary, multinomial or continuous) using training, testing and extrapolation (uncoded) data from texts and hand-classifications associated with your final project. As with ***Exercise 2***, these could be crowd-sourced codes gathered through Amazon Mechanical Turk last week. Visualize the classification of data points. Calculate relevant metrics (e.g., precision, recall, the F-measure, and AUC). Now build an ensemble classifier by bagging trees into a random forest. Visualize the result. How do these classifiers perform? What does ensemble learning do?"
   ]
  },
  {
   "cell_type": "markdown",
   "metadata": {},
   "source": [
    "<span style=\"color:green\"> According to the exercise above, 150 PCA factor works the best. I will proceed with this, (although different classifier may work differently...)"
   ]
  },
  {
   "cell_type": "code",
   "execution_count": 8,
   "metadata": {
    "collapsed": false
   },
   "outputs": [],
   "source": [
    "X_train_string, X_test_string, y_train, y_test= train_test_split(clf_DF[\"gender_string\"], clf_DF[\"gender\"], test_size= 0.1)"
   ]
  },
  {
   "cell_type": "code",
   "execution_count": 9,
   "metadata": {
    "collapsed": false
   },
   "outputs": [],
   "source": [
    "vectorizer= sklearn.feature_extraction.text.CountVectorizer()\n",
    "X_train_wordfeq= vectorizer.fit_transform(X_train_string)\n",
    "X_test_wordfeq= vectorizer.transform(X_test_string)\n",
    "\n",
    "pca = sklearn.decomposition.PCA(n_components = 150)\n",
    "X_train = pca.fit_transform(X_train_wordfeq.toarray())\n",
    "X_test= pca.transform(X_test_wordfeq.toarray())"
   ]
  },
  {
   "cell_type": "markdown",
   "metadata": {},
   "source": [
    "<span style=\"color:green\"> A deeper tree have a high accuracy for the training set, but does not generalize well to the test set. A 7-level tree probably works the best. "
   ]
  },
  {
   "cell_type": "code",
   "execution_count": 46,
   "metadata": {
    "collapsed": false
   },
   "outputs": [
    {
     "data": {
      "image/png": "[encoded data removed]",
      "text/plain": [
       "<matplotlib.figure.Figure at 0x18e8531d0>"
      ]
     },
     "metadata": {},
     "output_type": "display_data"
    }
   ],
   "source": [
    "depthvec = []\n",
    "scorevec_train = []\n",
    "scorevec_test= []\n",
    "for i in range(1,22):\n",
    "    tree2 = sklearn.tree.DecisionTreeClassifier(max_depth=i,random_state=0)\n",
    "    tree2.fit(X_train, y_train)\n",
    "    \n",
    "    y_train_pred= tree2.predict(X_train)\n",
    "    y_test_pred= tree2.predict(X_test)\n",
    "    \n",
    "    score_train = sklearn.metrics.accuracy_score(y_train, y_train_pred)\n",
    "    score_test= sklearn.metrics.accuracy_score(y_test, y_test_pred)\n",
    "    \n",
    "    depthvec.append(i)\n",
    "    scorevec_train.append(score_train)\n",
    "    scorevec_test.append(score_test)\n",
    "    \n",
    "plt.scatter(depthvec,scorevec_train)\n",
    "plt.scatter(depthvec,scorevec_test)\n",
    "plt.show()"
   ]
  },
  {
   "cell_type": "markdown",
   "metadata": {},
   "source": [
    "<span style=\"color:green\"> Bagging the tree into random forest. It does not necessarily generate a higher accuray rate. (But it seems to depend on the split. It is not as impressive the last time I tried it. I need a cross-validation to validate the accuracy score.)"
   ]
  },
  {
   "cell_type": "code",
   "execution_count": 52,
   "metadata": {
    "collapsed": false
   },
   "outputs": [
    {
     "name": "stdout",
     "output_type": "stream",
     "text": [
      "training's accuracy:  0.997777777778\n",
      "testing's accuracy:  0.67\n"
     ]
    }
   ],
   "source": [
    "tree = sklearn.tree.DecisionTreeClassifier(max_depth=7,random_state=0)\n",
    "bag = sklearn.ensemble.BaggingClassifier(tree, n_estimators=100, max_samples=0.8, random_state=1) \n",
    "bag.fit(X_train, y_train)\n",
    "\n",
    "y_train_pred= bag.predict(X_train)\n",
    "y_test_pred= bag.predict(X_test)\n",
    "\n",
    "print(\"training's accuracy: \", accuracy_score(y_train, y_train_pred))\n",
    "print(\"testing's accuracy: \", accuracy_score(y_test, y_test_pred))\n"
   ]
  },
  {
   "cell_type": "markdown",
   "metadata": {},
   "source": [
    "<span style=\"color:green\"> I tried to modify the function 'plotregions()' to visualize how decision tree draws decision boundaries. But I really can't... Every time I run this function, it kills the kernel..."
   ]
  },
  {
   "cell_type": "code",
   "execution_count": null,
   "metadata": {
    "collapsed": false
   },
   "outputs": [],
   "source": [
    "# I stole this function from lucem_illud and made some modification, \n",
    "#but it kep killing the kernel!!! \n",
    "#CONFUSED\n",
    "\n",
    "\"\"\"\n",
    "def plotregions(clf, X, y, h = .01):\n",
    "\n",
    "    pca = sklearn.decomposition.PCA(n_components = 2)\n",
    "    reduced_data = pca.fit_transform(X)\n",
    "    transformedDF = pandas.DataFrame({'vect' : [r for r in reduced_data], 'category' : y})\n",
    "    \n",
    "\n",
    "    catsMap = {c : i for i, c in enumerate(np.unique(y))}\n",
    "\n",
    "    fig, ax = plt.subplots(figsize = (10,10))\n",
    "    ax.axis('off')\n",
    "    pallet = seaborn.color_palette(palette='coolwarm', n_colors = len(set(transformedDF['category'])))\n",
    "\n",
    "\n",
    "    xx, yy = np.meshgrid(np.arange(1.1 * reduced_data[:,0].min(),\n",
    "            1.1 * reduced_data[:,0].max(), h),\n",
    "        np.arange(1.1 * reduced_data[:,1].min(),\n",
    "            1.1 * reduced_data[:,1].max(), h))\n",
    "    Z = clf.predict(pca.inverse_transform(np.c_[xx.ravel(), yy.ravel()]))\n",
    "\n",
    "    Z = np.vectorize(lambda x: catsMap[x])(Z)\n",
    "    Z = Z.reshape(xx.shape)\n",
    "    plt.contourf(xx, yy, Z, alpha=0.5, cmap=plt.cm.coolwarm)\n",
    "    for i, cat in enumerate(set(y)):\n",
    "        a = np.stack(transformedDF[transformedDF['category'] == cat])\n",
    "        ax.scatter(a[:,0], a[:, 1], c = pallet[catsMap[cat]], label = cat)\n",
    "    ax.legend(loc = 'center right', title = 'Categories')\n",
    "    plt.show()\n",
    "    plt.close()\n",
    "\n",
    "plotregions(tree, X_test, y_test, h = .01)\n",
    "\n",
    "\"\"\""
   ]
  },
  {
   "cell_type": "markdown",
   "metadata": {
    "collapsed": true
   },
   "source": [
    "## <span style=\"color:red\">*Exercise 4*</span>\n",
    "\n",
    "<span style=\"color:red\">In the cells immediately following, perform and visualize k-nearest neighbor classification using training, testing and extrapolation (uncoded) data from texts and hand-classifications associated with your final project. Visualize the classification of data points and calculate relevant metrics (e.g., precision, recall, the F-measure, and AUC). Articulate how the *k*-nearest neighbor approach relates to *k*-means clustering explored in ***week 3***?"
   ]
  },
  {
   "cell_type": "code",
   "execution_count": 72,
   "metadata": {
    "collapsed": false
   },
   "outputs": [],
   "source": [
    "X_train_string, X_test_string, y_train, y_test= train_test_split(clf_DF[\"gender_string\"], clf_DF[\"gender\"], test_size= 0.1)"
   ]
  },
  {
   "cell_type": "code",
   "execution_count": 73,
   "metadata": {
    "collapsed": false
   },
   "outputs": [],
   "source": [
    "vectorizer= sklearn.feature_extraction.text.CountVectorizer()\n",
    "X_train_wordfeq= vectorizer.fit_transform(X_train_string)\n",
    "X_test_wordfeq= vectorizer.transform(X_test_string)\n",
    "\n",
    "pca = sklearn.decomposition.PCA(n_components = 150)\n",
    "X_train = pca.fit_transform(X_train_wordfeq.toarray())\n",
    "X_test= pca.transform(X_test_wordfeq.toarray())"
   ]
  },
  {
   "cell_type": "code",
   "execution_count": 74,
   "metadata": {
    "collapsed": false
   },
   "outputs": [
    {
     "data": {
      "image/png": "[encoded data removed]",
      "text/plain": [
       "<matplotlib.figure.Figure at 0x1bf97b860>"
      ]
     },
     "metadata": {},
     "output_type": "display_data"
    }
   ],
   "source": [
    "#KNN's k vs. accuracy scores of training set and test set\n",
    "#K= 6 probably works the best (or 7 or 8, could be a bit random depending on the codes above)\n",
    "\n",
    "depthvec = []\n",
    "scorevec_train = []\n",
    "scorevec_test= []\n",
    "for i in range(1,15):\n",
    "    KNN = sklearn.neighbors.KNeighborsClassifier(i, weights='distance')\n",
    "    KNN.fit(X_train, y_train)\n",
    "    \n",
    "    y_train_pred= KNN.predict(X_train)\n",
    "    y_test_pred= KNN.predict(X_test)\n",
    "    \n",
    "    score_train = sklearn.metrics.accuracy_score(y_train, y_train_pred)\n",
    "    score_test= sklearn.metrics.accuracy_score(y_test, y_test_pred)\n",
    "    \n",
    "    depthvec.append(i)\n",
    "    scorevec_train.append(score_train)\n",
    "    scorevec_test.append(score_test)\n",
    "    \n",
    "plt.scatter(depthvec,scorevec_train)\n",
    "plt.scatter(depthvec,scorevec_test)\n",
    "plt.show()"
   ]
  },
  {
   "cell_type": "code",
   "execution_count": 30,
   "metadata": {
    "collapsed": false
   },
   "outputs": [
    {
     "name": "stdout",
     "output_type": "stream",
     "text": [
      "training set's accuracy: 1.0\n",
      "training set's precision: 1.0\n",
      "training set's recall: 1.0\n",
      "\n",
      "test set's accuracy: 0.88\n",
      "test set's precision: 0.84\n",
      "test set's recall: 0.913043478261\n"
     ]
    }
   ],
   "source": [
    "clf_KNN = sklearn.neighbors.KNeighborsClassifier(6, weights='distance')\n",
    "clf_KNN.fit(X_train, y_train)\n",
    "\n",
    "y_train_pred= clf_KNN.predict(X_train)\n",
    "y_test_pred= clf_KNN.predict(X_test)\n",
    "\n",
    "print(\"training set's accuracy:\", accuracy_score(y_train, y_train_pred))\n",
    "print(\"training set's precision:\", precision_score(y_train, y_train_pred))\n",
    "print(\"training set's recall:\", recall_score(y_train, y_train_pred))\n",
    "print()\n",
    "\n",
    "print(\"test set's accuracy:\", accuracy_score(y_test, y_test_pred))\n",
    "print(\"test set's precision:\", precision_score(y_test, y_test_pred))\n",
    "print(\"test set's recall:\", recall_score(y_test, y_test_pred))\n",
    "    "
   ]
  },
  {
   "cell_type": "markdown",
   "metadata": {},
   "source": [
    "## <span style=\"color:red\">*Exercise 5*</span>\n",
    "\n",
    "<span style=\"color:red\">In the cells immediately following, perform a neural network classification and calculate relevant metrics (e.g., precision, recall, the F-measure, and AUC). How does this classify relevant to *k*-nearest neighbor, Naive Bayes, logistic and decision-tree approaches?"
   ]
  },
  {
   "cell_type": "code",
   "execution_count": 75,
   "metadata": {
    "collapsed": false
   },
   "outputs": [
    {
     "name": "stdout",
     "output_type": "stream",
     "text": [
      "training set's accuracy: 0.998888888889\n",
      "training set's precision: 0.997802197802\n",
      "training set's recall: 1.0\n",
      "\n",
      "test set's accuracy: 0.86\n",
      "test set's precision: 0.833333333333\n",
      "test set's recall: 0.869565217391\n"
     ]
    }
   ],
   "source": [
    "clf_nn = sklearn.neural_network.MLPClassifier()\n",
    "clf_nn.fit(X_train, y_train)\n",
    "\n",
    "y_train_pred= clf_nn.predict(X_train)\n",
    "y_test_pred= clf_nn.predict(X_test)\n",
    "\n",
    "print(\"training set's accuracy:\", accuracy_score(y_train, y_train_pred))\n",
    "print(\"training set's precision:\", precision_score(y_train, y_train_pred))\n",
    "print(\"training set's recall:\", recall_score(y_train, y_train_pred))\n",
    "print()\n",
    "\n",
    "print(\"test set's accuracy:\", accuracy_score(y_test, y_test_pred))\n",
    "print(\"test set's precision:\", precision_score(y_test, y_test_pred))\n",
    "print(\"test set's recall:\", recall_score(y_test, y_test_pred))"
   ]
  },
  {
   "cell_type": "code",
   "execution_count": null,
   "metadata": {
    "collapsed": true
   },
   "outputs": [],
   "source": []
  }
 ],
 "metadata": {
  "anaconda-cloud": {},
  "kernelspec": {
   "display_name": "Python [Root]",
   "language": "python",
   "name": "Python [Root]"
  },
  "language_info": {
   "codemirror_mode": {
    "name": "ipython",
    "version": 3
   },
   "file_extension": ".py",
   "mimetype": "text/x-python",
   "name": "python",
   "nbconvert_exporter": "python",
   "pygments_lexer": "ipython3",
   "version": "3.5.2"
  }
 },
 "nbformat": 4,
 "nbformat_minor": 0
}
