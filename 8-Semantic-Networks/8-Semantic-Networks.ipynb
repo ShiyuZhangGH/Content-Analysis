{
 "cells": [
  {
   "cell_type": "code",
   "execution_count": 818,
   "metadata": {},
   "outputs": [],
   "source": [
    "import networkx as nx\n",
    "\n",
    "import nltk #For POS tagging\n",
    "import sklearn #For generating some matrices\n",
    "import pandas as pd\n",
    "import numpy as np #For arrays\n",
    "import matplotlib.pyplot as plt #For plotting\n",
    "import seaborn as sns #Makes the plots look nice\n",
    "import scipy #Some stats\n",
    "\n",
    "import pickle #if you want to save layouts\n",
    "import os\n",
    "import operator\n",
    "from googletrans import Translator\n",
    "\n",
    "%matplotlib inline"
   ]
  },
  {
   "cell_type": "code",
   "execution_count": 1032,
   "metadata": {},
   "outputs": [
    {
     "name": "stdout",
     "output_type": "stream",
     "text": [
      "136\n"
     ]
    }
   ],
   "source": [
    "print(len(list(bookDF_male_tokenized.columns)))"
   ]
  },
  {
   "cell_type": "markdown",
   "metadata": {},
   "source": [
    "### <span style=\"color:green\"> General Notes: \n",
    "### <span style=\"color:green\">  For this assignment, I combine Exercise 1, 2 and 3. (Exercise 3's stretch has its separate section)\n",
    "\n",
    "<span style=\"color:green\"> For me to get a meaningful network (Exercise 1's requirement), I need to use POS tags to filter out some words, which is the requirement of Exercise 3. Network statistics (Exercise 2) is mainly reflected in the matplotlib line graph where I show how the centerality of the four gender words \"male_he\", \"male_she\", \"female_he\", and \"female_she\" changes as the network gets trimmed."
   ]
  },
  {
   "cell_type": "code",
   "execution_count": 2,
   "metadata": {},
   "outputs": [],
   "source": [
    "bookDF_male_tokenized= pd.read_pickle(\"bookDF_male_tokenized.pickle\")\n",
    "bookDF_female_tokenized= pd.read_pickle(\"bookDF_female_tokenized.pickle\")"
   ]
  },
  {
   "cell_type": "markdown",
   "metadata": {},
   "source": [
    "<span style=\"color:green\"> I first build a (long) list of vocabulary as the first screening step. I use POS tag to screen out words that have relevant tags. \n",
    "    \n",
    "<span style=\"color:green\"> I tried two sets of words, adjective and nouns. There is significantly more nouns than adjectives, so if I want to see anything adjectives related. I cannot include nouns as target words. "
   ]
  },
  {
   "cell_type": "code",
   "execution_count": 697,
   "metadata": {},
   "outputs": [],
   "source": [
    "keep_tag= [\"a\", \"ag\", \"ad\", \"an\", \"i\", \"z\"]\n",
    "#\"vg\", \"v\", \"vd\", \"vn\"\n",
    "#\"a\", \"ag\", \"ad\", \"an\", \"i\", \"z\"\n",
    "#\"n\", \"ns\", \"ng\"\n",
    "\n",
    "helper_col= []\n",
    "for i in range(30):\n",
    "    helper_col+= [\"ch\"+str(i+1)+\"_tag\"]\n",
    "\n",
    "bookDF_tag= pd.concat([bookDF_male_tokenized[helper_col], bookDF_female_tokenized[helper_col]], axis= 0)\n",
    "#bookDF_tag_male= bookDF_male_tokenized[helper_col]\n",
    "#bookDF_tag_female= bookDF_female_tokenized[helper_col]\n",
    "\n",
    "\n",
    "def build_vocabulary(DF, keep_tag):\n",
    "    #Input 1: a dataframe that contains 30 columns (30 chapter) of books. \n",
    "    #Each column contains a list of word tag tuple\n",
    "    #Input 2: words with corresponding POS tags that I want to keep \n",
    "    #Output a vocabulary list\n",
    "    voc= set()\n",
    "    tag_column= []\n",
    "    for i in range(30):\n",
    "        tag_column+= [\"ch\"+str(i+1)+\"_tag\"]\n",
    "    for j in range(DF.shape[0]):\n",
    "        for col in tag_column:\n",
    "            word_tag_list= DF.iloc[j][col]\n",
    "            for w, t in word_tag_list:\n",
    "                if t in keep_tag:\n",
    "                    voc.add(w)\n",
    "    return voc\n",
    "            \n",
    "voc= build_vocabulary(bookDF_tag, keep_tag)\n",
    "        "
   ]
  },
  {
   "cell_type": "code",
   "execution_count": 698,
   "metadata": {},
   "outputs": [
    {
     "data": {
      "text/plain": [
       "40354"
      ]
     },
     "execution_count": 698,
     "metadata": {},
     "output_type": "execute_result"
    }
   ],
   "source": [
    "len(voc)"
   ]
  },
  {
   "cell_type": "markdown",
   "metadata": {},
   "source": [
    "<span style=\"color:green\"> I use tf-idf to find the 1000 most distinguishing words *at the document level*. Else there are way too many stop words or words with little meaning. "
   ]
  },
  {
   "cell_type": "code",
   "execution_count": 699,
   "metadata": {},
   "outputs": [],
   "source": [
    "helper_col= []\n",
    "for i in range(30):\n",
    "    helper_col+= [\"ch\"+str(i+1)+\"_clean\"]\n",
    "        \n",
    "bookDF_ch= pd.concat([bookDF_male_tokenized[helper_col], bookDF_female_tokenized[helper_col]], axis= 0)\n",
    "#bookDF_ch_male= bookDF_male_tokenized[helper_col]\n",
    "#bookDF_ch_female= bookDF_female_tokenized[helper_col]\n",
    "\n",
    "\n",
    "def collapse_30_ch_to_string(DF):\n",
    "    #This function collapses the 30 chapters (30 columns) of a book into one cell\n",
    "    #Then sum up the list of each book to a string, (words separated by space)\n",
    "    helper_lis= [] \n",
    "    for i in range(DF.shape[0]):\n",
    "        cell= []\n",
    "        for col in helper_col:\n",
    "            cell+= DF.iloc[i][col]\n",
    "\n",
    "        helper_lis+= [cell]\n",
    "\n",
    "    helper_str= []\n",
    "    for i in range(DF.shape[0]):\n",
    "        helper_str+= [\" \".join(helper_lis[i])]\n",
    "\n",
    "    all_ch_string_DF= pd.DataFrame({\"all_ch_string\": helper_str})\n",
    "    \n",
    "    return all_ch_string_DF"
   ]
  },
  {
   "cell_type": "code",
   "execution_count": 700,
   "metadata": {},
   "outputs": [],
   "source": [
    "all_ch_string_DF= collapse_30_ch_to_string(bookDF_ch)"
   ]
  },
  {
   "cell_type": "code",
   "execution_count": 701,
   "metadata": {},
   "outputs": [
    {
     "data": {
      "text/plain": [
       "(1000, 149845)"
      ]
     },
     "execution_count": 701,
     "metadata": {},
     "output_type": "execute_result"
    }
   ],
   "source": [
    "my_tf_vectorizer= sklearn.feature_extraction.text.TfidfVectorizer(max_df=0.5, min_df=3)\n",
    "novel_tf_vects= my_tf_vectorizer.fit_transform(all_ch_string_DF[\"all_ch_string\"])\n",
    "novel_tf_vects.shape"
   ]
  },
  {
   "cell_type": "markdown",
   "metadata": {},
   "source": [
    "<span style=\"color:green\"> I rank the tf-idf features, then look up each feature in the variable `voc` I built above until the target list reach 1000.  "
   ]
  },
  {
   "cell_type": "code",
   "execution_count": 702,
   "metadata": {},
   "outputs": [],
   "source": [
    "#Rank the tf-idf features\n",
    "terms = my_tf_vectorizer.get_feature_names()\n",
    "sums = novel_tf_vects.sum(axis=0)\n",
    "\n",
    "# connecting term to its sums frequency\n",
    "data = []\n",
    "for col, term in enumerate(terms):\n",
    "    data.append( (term, sums[0,col] ))\n",
    "\n",
    "ranking = pd.DataFrame(data, columns=['term','rank'])\n",
    "ranked= ranking.sort_values('rank', ascending=False)"
   ]
  },
  {
   "cell_type": "code",
   "execution_count": 703,
   "metadata": {},
   "outputs": [],
   "source": [
    "target_len= 1000\n",
    "target= []\n",
    "\n",
    "for t in ranked[\"term\"]:\n",
    "    if len(target)>= target_len:\n",
    "        break\n",
    "    if t in set(voc):\n",
    "        target+= [t]\n",
    "\n",
    "gender_target= [\"male_he\", \"male_she\", \"female_he\", \"female_she\"]\n",
    "target+= gender_target"
   ]
  },
  {
   "cell_type": "code",
   "execution_count": 704,
   "metadata": {},
   "outputs": [],
   "source": [
    "target_dic= {target[i]: i for i in range(len(target))}\n",
    "target_dic_rev= {num: word for word, num in target_dic.items()}"
   ]
  },
  {
   "cell_type": "code",
   "execution_count": 1039,
   "metadata": {},
   "outputs": [],
   "source": [
    "len(target)\n",
    "finding_error= pd.DataFrame({\"testing\": target})\n",
    "finding_error.to_csv(\"finding_error.csv\")"
   ]
  },
  {
   "cell_type": "markdown",
   "metadata": {},
   "source": [
    "<span style=\"color:green\"> The above operation identifies the target words that I want to build networks with (i.e., the nodes). In the following, I will use the windows next to each target word to build network.\n",
    "\n",
    "<span style=\"color:green\"> The example codes teach me to build 1-mode network from 2-mode network (bipartite network). But I am not interested in linking words through documents. I am interested in linking words through the local context.\n",
    "\n",
    "<span style=\"color:green\"> I use windows next to these target words as the local context. Since I am interested in connection between words, I take windows by counting 10 words rightword (i.e., forward but not backward). \n",
    "    \n",
    "<span style=\"color:pink\"> Notes. The way I take windows here is different from the way I took windows in the classification task because here I am interested in undirected edge. I won't miss any connection or count repeatedly by going one way. But in the classification task, I am interested in the context that \"he\" and \"she\" are placed, I want both left and right windows of the words."
   ]
  },
  {
   "cell_type": "code",
   "execution_count": 706,
   "metadata": {},
   "outputs": [],
   "source": [
    "list_text_split= []\n",
    "for i in range(all_ch_string_DF.shape[0]):\n",
    "    text= all_ch_string_DF.iloc[i][\"all_ch_string\"]\n",
    "    text_split= text.split()\n",
    "    list_text_split+= [text_split]\n",
    "bookDF_ch[\"30_ch_list\"]= list_text_split"
   ]
  },
  {
   "cell_type": "code",
   "execution_count": 707,
   "metadata": {},
   "outputs": [],
   "source": [
    "def replace_character_maleN(wordlist):\n",
    "    new_wordlist= []\n",
    "    for w in wordlist:\n",
    "        if w== \"他\":\n",
    "            new_wordlist+= [\"male_he\"]\n",
    "        elif w== \"她\":\n",
    "            new_wordlist+= [\"male_she\"]\n",
    "        else:\n",
    "            new_wordlist+= [w]\n",
    "    return new_wordlist\n",
    "        \n",
    "def replace_character_femaleN(wordlist):\n",
    "    new_wordlist= []\n",
    "    for w in wordlist:\n",
    "        if w== \"他\":\n",
    "            new_wordlist+= [\"female_he\"]\n",
    "        elif w== \"她\":\n",
    "            new_wordlist+= [\"female_she\"]\n",
    "        else:\n",
    "            new_wordlist+= [w]\n",
    "    return new_wordlist\n",
    "\n",
    "bookDF_ch[\"30_ch_list_replace\"]= pd.concat([bookDF_ch[\"30_ch_list\"].iloc[:500].apply(lambda x: replace_character_maleN(x)),\n",
    "                                        bookDF_ch[\"30_ch_list\"].iloc[500:].apply(lambda x: replace_character_femaleN(x))],\n",
    "                                        axis= 0)\n",
    "                                        "
   ]
  },
  {
   "cell_type": "code",
   "execution_count": 708,
   "metadata": {},
   "outputs": [],
   "source": [
    "net_np= np.zeros((len(target_dic), len(target_dic)))\n",
    "\n",
    "for i in range(bookDF_ch.shape[0]):\n",
    "    text= bookDF_ch[\"30_ch_list_replace\"].iloc[i]\n",
    "    \n",
    "    for j in range(len(text)):\n",
    "        if text[j] in target_dic:\n",
    "            right= text[j: j+ 10]\n",
    "            for wr in right[1:]:\n",
    "                if wr in target_dic:\n",
    "                    #I want to fill only half of the matrix\n",
    "                    if target_dic[text[j]]< target_dic[wr]:\n",
    "                        net_np[target_dic[text[j]], target_dic[wr]]+= 1\n",
    "                        \n",
    "                    elif target_dic[text[j]]== target_dic[wr]:\n",
    "                        net_np[target_dic[text[j]], target_dic[wr]]+= 0\n",
    "                        \n",
    "                    else:\n",
    "                        net_np[target_dic[wr], target_dic[text[j]]]+= 1\n",
    "                            "
   ]
  },
  {
   "cell_type": "code",
   "execution_count": 709,
   "metadata": {},
   "outputs": [],
   "source": [
    "node_node_w= []\n",
    "for i in range(net_np.shape[0]):\n",
    "    for j in range(i, net_np.shape[0]):\n",
    "        if net_np[i, j]> 0:\n",
    "            node_node_w+= [(target_dic_rev[i], target_dic_rev[j], net_np[i, j])]"
   ]
  },
  {
   "cell_type": "code",
   "execution_count": 710,
   "metadata": {},
   "outputs": [],
   "source": [
    "g= nx.Graph()\n",
    "g.add_weighted_edges_from(node_node_w)"
   ]
  },
  {
   "cell_type": "code",
   "execution_count": 711,
   "metadata": {},
   "outputs": [
    {
     "name": "stdout",
     "output_type": "stream",
     "text": [
      "Name: \n",
      "Type: Graph\n",
      "Number of nodes: 1004\n",
      "Number of edges: 74237\n",
      "Average degree: 147.8825\n",
      "Average weight: 5.5398116842006\n",
      "Median weight: 1.0\n"
     ]
    }
   ],
   "source": [
    "print(nx.info(g))\n",
    "\n",
    "#Average weight\n",
    "print(\"Average weight:\", np.mean([d[\"weight\"] for n1, n2, d in g.edges(data = True)]))\n",
    "print(\"Median weight:\", np.median([d[\"weight\"] for n1, n2, d in g.edges(data = True)]))"
   ]
  },
  {
   "cell_type": "code",
   "execution_count": null,
   "metadata": {},
   "outputs": [],
   "source": []
  },
  {
   "cell_type": "code",
   "execution_count": 712,
   "metadata": {},
   "outputs": [
    {
     "name": "stdout",
     "output_type": "stream",
     "text": [
      "Name: \n",
      "Type: Graph\n",
      "Number of nodes: 1004\n",
      "Number of edges: 4702\n",
      "Average degree:   9.3665\n",
      "Average weight: 67.69396001701404\n"
     ]
    }
   ],
   "source": [
    "#Remove edges that occur less than average times\n",
    "avg= np.mean([d[\"weight\"] for n1, n2, d in g.edges(data = True)])\n",
    "g.remove_edges_from([(n1, n2) for n1, n2, d in g.edges(data = True) if d['weight'] <= avg])\n",
    "#Average weight\n",
    "print(nx.info(g))\n",
    "print(\"Average weight:\", np.mean([d[\"weight\"] for n1, n2, d in g.edges(data = True)]))"
   ]
  },
  {
   "cell_type": "code",
   "execution_count": 543,
   "metadata": {},
   "outputs": [
    {
     "name": "stdout",
     "output_type": "stream",
     "text": [
      "Name: \n",
      "Type: Graph\n",
      "Number of nodes: 1004\n",
      "Number of edges: 4702\n",
      "Average degree:   9.3665\n"
     ]
    }
   ],
   "source": [
    "##Export network matrix to a csv file \n",
    "print(nx.info(g))\n",
    "words= list(nx.nodes(g))\n",
    "net= nx.to_numpy_matrix(g)\n",
    "netDF= pd.DataFrame(net, columns= words, index= words)\n",
    "netDF.to_csv(\"net_adj.csv\")\n",
    "#netDF.to_csv(\"net_v.csv\")\n",
    "#netDF.to_csv(\"net_n.csv\")"
   ]
  },
  {
   "cell_type": "markdown",
   "metadata": {},
   "source": [
    "<span style=\"color:green\"> Trimming the network nodes is not favorable for my purpose. But I cannot plot overly large network here. So I export the data to Gephi to plot three graphs. \n",
    "    \n",
    "<span style=\"color:green\"> I take out the 4 gender nodes \"male_he\", \"male_she\", \"female_he\", and \"female_she\" from the network becuase they occur too much and they are the center that connects everything. If I inlcude these four nodes, then the network immediately split into two sub-graphs with \"male_he\" & \"male_she\" centering one subgraph and \"female_he\" & \"female_she\" centering the other subgraph. \n",
    "\n",
    "<span style=\"color:green\"> **For adjective**: Adjectives clustered around the 4 gender words and form two clusters. But once I exclude the 4 gender words (as shown below), the ajectives themselves do not formulate any pattern. "
   ]
  },
  {
   "cell_type": "markdown",
   "metadata": {},
   "source": [
    "<img src=\"netadj.png\",width=1000,height=500>"
   ]
  },
  {
   "cell_type": "markdown",
   "metadata": {},
   "source": [
    "<span style=\"color:green\"> **For verbs**: There are some clustering with regards to the verbs. For example, the right corner refers to ancient times setting, and the lower part refers to some intensive interactions. "
   ]
  },
  {
   "cell_type": "markdown",
   "metadata": {},
   "source": [
    "<img src=\"netv.png\",width=1000,height=500>"
   ]
  },
  {
   "cell_type": "markdown",
   "metadata": {},
   "source": [
    "<span style=\"color:green\"> **For nouns**: Even without the 4 gender words, the nouns do clustered around certain topics. From this graph, I can see what the character settings are of the novels. This is the most informative graph out of the three graphs."
   ]
  },
  {
   "cell_type": "markdown",
   "metadata": {},
   "source": [
    "<img src=\"netn.png\",width=1000,height=500>"
   ]
  },
  {
   "cell_type": "markdown",
   "metadata": {},
   "source": [
    "### <span style=\"color:green\"> Combine the adj, v, and n networks"
   ]
  },
  {
   "cell_type": "markdown",
   "metadata": {},
   "source": [
    "<span style=\"color:green\"> Below is a strange move. Not sure if I can justify it. I take the 333 most central adj, noun, and verb to formulate a 999 word network (actually 996 words becuase there are overlap between the words). The number 333 is completely arbitary.  \n",
    "\n",
    "<span style=\"color:pink\"> The codes I wrote above are also meh... For adj, noun and verb, I have to re-run everything three times. **That is, the variable `n`, `v`, `adj` below are the results of running the code above three times.**   \n",
    "    \n",
    "<span style=\"color:green\"> For graphing the network, I again need to get rid of the 4 gender words, else the data form two clean clusters representing male and female novels. This is understandable becuase \"he\" and \"she\" occurs so many times and everything that happes are related to them. "
   ]
  },
  {
   "cell_type": "code",
   "execution_count": 713,
   "metadata": {},
   "outputs": [],
   "source": [
    "dcentralities = nx.degree_centrality(g)"
   ]
  },
  {
   "cell_type": "code",
   "execution_count": 714,
   "metadata": {},
   "outputs": [],
   "source": [
    "adj= [w for w, v in sorted(dcentralities.items(), key = lambda x: x[1], reverse = True)[:337]][4:]"
   ]
  },
  {
   "cell_type": "code",
   "execution_count": 694,
   "metadata": {},
   "outputs": [],
   "source": [
    "v= [w for w, v in sorted(dcentralities.items(), key = lambda x: x[1], reverse = True)[:337]][4:]"
   ]
  },
  {
   "cell_type": "code",
   "execution_count": 675,
   "metadata": {},
   "outputs": [],
   "source": [
    "n= [w for w, v in sorted(dcentralities.items(), key = lambda x: x[1], reverse = True)[:337]][4:]"
   ]
  },
  {
   "cell_type": "code",
   "execution_count": null,
   "metadata": {},
   "outputs": [],
   "source": []
  },
  {
   "cell_type": "code",
   "execution_count": 730,
   "metadata": {},
   "outputs": [],
   "source": [
    "#There is a three-word overlap between adj, n and v\n",
    "#One between v and n: \n",
    "#One between adj and n:\n",
    "#One between \n",
    "target_3= list(set(v+n+adj))"
   ]
  },
  {
   "cell_type": "code",
   "execution_count": 1037,
   "metadata": {},
   "outputs": [
    {
     "data": {
      "text/plain": [
       "{'小白'}"
      ]
     },
     "execution_count": 1037,
     "metadata": {},
     "output_type": "execute_result"
    }
   ],
   "source": [
    "set(n)& set(v)"
   ]
  },
  {
   "cell_type": "code",
   "execution_count": 1020,
   "metadata": {},
   "outputs": [],
   "source": [
    "def target_network(target):\n",
    "    target_dic= {target[i]: i for i in range(len(target))}\n",
    "    target_dic_rev= {num: word for word, num in target_dic.items()}\n",
    "    \n",
    "\n",
    "    net_np= np.zeros((len(target_dic), len(target_dic)))\n",
    "\n",
    "    for i in range(bookDF_ch.shape[0]):\n",
    "        text= bookDF_ch[\"30_ch_list_replace\"].iloc[i]\n",
    "\n",
    "        for j in range(len(text)):\n",
    "            if text[j] in target_dic:\n",
    "                right= text[j: j+ 10]\n",
    "                for wr in right[1:]:\n",
    "                    if wr in target_dic:\n",
    "                        #I want to fill only half of the matrix\n",
    "                        if target_dic[text[j]]< target_dic[wr]:\n",
    "                            net_np[target_dic[text[j]], target_dic[wr]]+= 1\n",
    "\n",
    "                        elif target_dic[text[j]]== target_dic[wr]:\n",
    "                            net_np[target_dic[text[j]], target_dic[wr]]+= 0\n",
    "\n",
    "                        else:\n",
    "                            net_np[target_dic[wr], target_dic[text[j]]]+= 1\n",
    "    \n",
    "    node_node_w= []\n",
    "    for i in range(net_np.shape[0]):\n",
    "        for j in range(i, net_np.shape[0]):\n",
    "            if net_np[i, j]> 0:\n",
    "                node_node_w+= [(target_dic_rev[i], target_dic_rev[j], net_np[i, j])]\n",
    "    \n",
    "    g= nx.Graph()\n",
    "    g.add_weighted_edges_from(node_node_w)\n",
    "    return g\n"
   ]
  },
  {
   "cell_type": "code",
   "execution_count": 1021,
   "metadata": {},
   "outputs": [
    {
     "name": "stdout",
     "output_type": "stream",
     "text": [
      "Name: \n",
      "Type: Graph\n",
      "Number of nodes: 996\n",
      "Number of edges: 195287\n",
      "Average degree: 392.1426\n",
      "Average weight: 4.379369850527685\n",
      "Median weight: 2.0\n"
     ]
    }
   ],
   "source": [
    "g_3= target_network(target_3)\n",
    "print(nx.info(g_3))\n",
    "\n",
    "#Average weight\n",
    "print(\"Average weight:\", np.mean([d[\"weight\"] for n1, n2, d in g_3.edges(data = True)]))\n",
    "print(\"Median weight:\", np.median([d[\"weight\"] for n1, n2, d in g_3.edges(data = True)]))\n"
   ]
  },
  {
   "cell_type": "code",
   "execution_count": 1025,
   "metadata": {},
   "outputs": [
    {
     "name": "stdout",
     "output_type": "stream",
     "text": [
      "Name: \n",
      "Type: Graph\n",
      "Number of nodes: 996\n",
      "Number of edges: 13548\n",
      "Average degree:  27.2048\n",
      "Average weight: 31.384558606436375\n",
      "This trimimg restuls in 54 isolated nodes\n"
     ]
    }
   ],
   "source": [
    "#Remove edges that occur less than x times\n",
    "avg= np.mean([d[\"weight\"] for n1, n2, d in g_3.edges(data = True)])\n",
    "#The filtering criterion 10 is arbitary... I just want to trim down the network to be not as dense\n",
    "g_3.remove_edges_from([(n1, n2) for n1, n2, d in g_3.edges(data = True) if d['weight'] <= 10])\n",
    "#Average weight\n",
    "print(nx.info(g_3))\n",
    "print(\"Average weight:\", np.mean([d[\"weight\"] for n1, n2, d in g_3.edges(data = True)]))\n",
    "\n",
    "print(\"This trimimg restuls in\", len(list(nx.isolates(g_3))), \"isolated nodes\")\n",
    "#I don't have to get rid of these nodes. Gephi will automatically do that"
   ]
  },
  {
   "cell_type": "code",
   "execution_count": 941,
   "metadata": {},
   "outputs": [],
   "source": [
    "#Translate nodes from Chinese to English\n",
    "words= list(nx.nodes(g_3))\n",
    "translator = Translator()\n",
    "\n",
    "chi_eng_dic= {}\n",
    "\n",
    "for chi_w in words:\n",
    "    try:\n",
    "        eng_w= translator.translate(chi_w).text\n",
    "        chi_eng_dic[chi_w]= eng_w\n",
    "    except:\n",
    "        print(\"something is wrong:\", chi_w)\n",
    "        \n",
    "#Not all translation are reliable... My solution is to output them to a csv file, \n",
    "#where I can easily make manual correction. Then I read the csv file back.\n",
    "\n"
   ]
  },
  {
   "cell_type": "code",
   "execution_count": 947,
   "metadata": {},
   "outputs": [],
   "source": [
    "chi_eng_DF= pd.DataFrame({\"chi\": words, \"eng\": [chi_eng_dic[chi_w] for chi_w in words]})\n",
    "chi_eng_DF.to_csv(\"chi_eng_DF.csv\")"
   ]
  },
  {
   "cell_type": "code",
   "execution_count": 1027,
   "metadata": {},
   "outputs": [],
   "source": [
    "#I manually correct the google translation... Took forever :(\n",
    "chi_eng_correct= pd.read_excel(\"chi_eng_correct.xlsx\", encoding= \"latin-1\")\n",
    "eng_words= list(chi_eng_correct[\"eng\"])\n",
    "\n",
    "chi_words= list(nx.nodes(g_3))\n",
    "#I then pair up the Chinese words with the English words\n",
    "pair= [chi+eng for chi, eng in zip(chi_words, eng_words)]"
   ]
  },
  {
   "cell_type": "code",
   "execution_count": 1028,
   "metadata": {},
   "outputs": [],
   "source": [
    "##Export network matrix to a csv file \n",
    "net= nx.to_numpy_matrix(g_3)\n",
    "netDF= pd.DataFrame(net, columns= pair, index= pair)\n",
    "netDF.to_csv(\"net_3_twoL.csv\")"
   ]
  },
  {
   "cell_type": "markdown",
   "metadata": {},
   "source": [
    "<span style=\"color:green\"> I select the most central 333 adj, 333 noun, 333 verb from the adj, noun, and verb network. Trimming the network results in some nodes becoming isolated, which retains 942 nodes. \n",
    "    \n",
    "<span style=\"color:green\"> I notice that some nodes do not have substantive meaning and some others are people names that shouldn't be included in the first place (jieba tokenizer failed to recognize them as human names). I manually go through the word list in Gephi and further delete 16 words that I think does not contain generalized meaning about the documents. These 16 words include 1)具有 have, 2)分为 divid into, 3)叶家 family Ye, 4)司徒 Situ(a surname), 5)地说 say, 6)好似 as, 7)方氏 Ms.Fang, 8)林家 family Lin, 9)楚天 Chutian(a name), 10)楚风 Chufeng(a name), 11)沈家 family Shen, 12)瞧瞧 look, 13)瞧见 see, 14)答道 reply, 15)萧炎 Xiaoyan(a name), 16)萧凡 Xiaofan(a name).\n",
    "    \n",
    "<span style=\"color:green\"> Together verb and noun, adjectives are anchored down and are no longer floating. The clusters of verb, noun and adjectives show the major settings of the novels. \n",
    "    \n",
    "<span style=\"color:green\"> For the purpose of visualization, I only show the label of the nodes of higher than average weighted degree (weighted by edges' weight). "
   ]
  },
  {
   "cell_type": "markdown",
   "metadata": {},
   "source": [
    "<img src=\"net3_adjusted2L.png\",width=1000,height=500>"
   ]
  },
  {
   "cell_type": "markdown",
   "metadata": {},
   "source": [
    "<span style=\"color:green\"> As stated above, I cannot place \"he\" and \"she\" in the network when graphing the network, beucase these 4 nodes are so central that their relationships with the rest of the nodes overshadow the network structure among the other nodes. However, I can count network statistics of these 4 gender nodes. The values below confirms what I found above. \"She\" in male novels are not as central as \"he\", whereas \"he\" and \"she\" are equally central in female novel."
   ]
  },
  {
   "cell_type": "code",
   "execution_count": 799,
   "metadata": {},
   "outputs": [
    {
     "name": "stdout",
     "output_type": "stream",
     "text": [
      "Name: \n",
      "Type: Graph\n",
      "Number of nodes: 1000\n",
      "Number of edges: 199241\n",
      "Average degree: 398.4820\n",
      "Average weight: 7.681491259329154\n"
     ]
    }
   ],
   "source": [
    "gender_target= [\"male_he\", \"male_she\", \"female_he\", \"female_she\"]\n",
    "g_gender= target_network(target_3+ gender_target)\n",
    "print(nx.info(g_gender))\n",
    "print(\"Average weight:\", np.mean([d[\"weight\"] for n1, n2, d in g_gender.edges(data = True)]))"
   ]
  },
  {
   "cell_type": "markdown",
   "metadata": {},
   "source": [
    "<span style=\"color:green\"> I plot a graph that shows how the centrality value of the 4 gender words change as I trim the network based on centrality."
   ]
  },
  {
   "cell_type": "code",
   "execution_count": 800,
   "metadata": {},
   "outputs": [],
   "source": [
    "male_he_trim= []\n",
    "male_she_trim= []\n",
    "female_he_trim= []\n",
    "female_she_trim= []\n",
    "\n",
    "trim_weight= [0, 5, 10, 15, 20, 25, 30, 35, 40, 45, 50, 55, 60]\n",
    "\n",
    "\n",
    "\n",
    "for w in trim_weight:\n",
    "    g_gender.remove_edges_from([(n1, n2) for n1, n2, d in g_gender.edges(data = True) if d['weight'] <= w])\n",
    "    \n",
    "    dcentralities = nx.degree_centrality(g_gender)\n",
    "    male_he_trim+= [dcentralities['male_he']]\n",
    "    male_she_trim+= [dcentralities['male_she']]\n",
    "    female_he_trim+= [dcentralities['female_he']]\n",
    "    female_she_trim+= [dcentralities['female_she']]\n",
    "    "
   ]
  },
  {
   "cell_type": "markdown",
   "metadata": {},
   "source": [
    "<span style=\"color:green\"> Even though the centerality of the 4 gender words are similari at the begining. As the network gets trimmed, the centerality of \"she\" in male novel plunges. This means that \"she\" in male novels are largely associated with other non-centeral words. A similar pattern can be seen for \"he\" in female novels. Although not at all to the same extent as \"she\" in male novels, especially because the reference \"she\" in female novels drops faster than the reference \"he\" in male novels. In contrast, the centrality of \"he\" in male novels and \"she\" in female novels are robust."
   ]
  },
  {
   "cell_type": "code",
   "execution_count": 850,
   "metadata": {},
   "outputs": [
    {
     "data": {
      "text/plain": [
       "<matplotlib.legend.Legend at 0x207d0c1550>"
      ]
     },
     "execution_count": 850,
     "metadata": {},
     "output_type": "execute_result"
    },
    {
     "data": {
      "image/png": "[encoded data removed]",
      "text/plain": [
       "<matplotlib.figure.Figure at 0x1fcec90c18>"
      ]
     },
     "metadata": {},
     "output_type": "display_data"
    }
   ],
   "source": [
    "sns.set()\n",
    "plt.plot(trim_weight, male_he_trim, 'darkblue', label='\"he\" in male novel')\n",
    "plt.plot(trim_weight, male_she_trim, 'steelblue', label='\"she\" in male novel')\n",
    "plt.plot(trim_weight, female_he_trim, 'darkred',  label='\"he\" in female novel')\n",
    "plt.plot(trim_weight, female_she_trim, 'plum',  label='\"she\" in female novel')\n",
    "plt.axis([0, 60, 0, 1])\n",
    "plt.legend()"
   ]
  },
  {
   "cell_type": "markdown",
   "metadata": {},
   "source": [
    "### <span style=\"color:green\"> Exercise 3's stretch"
   ]
  },
  {
   "cell_type": "markdown",
   "metadata": {},
   "source": [
    "<span style=\"color:green\"> Ego network. \"male_he\" is associated with 986 words, male_she with 852, female_he with 953, and female_she with 963. Their neighbour are way too much for sub-graph. I try something random. A two-level network out of a not highly central node results in a size 385 network.   \n",
    "    \n",
    "<span style=\"color:green\"> I still cannot get the plot to show Chinese. But I don't necessarily care about this graph, so I let the problem go..."
   ]
  },
  {
   "cell_type": "code",
   "execution_count": 894,
   "metadata": {},
   "outputs": [],
   "source": [
    "#Redo the network as the above operations trim down the network\n",
    "g_3= target_network(target_3)\n",
    "#Trim the network by retaining edges that occur more than 10 times\n",
    "g_3.remove_edges_from([(n1, n2) for n1, n2, d in g_3.edges(data = True) if d['weight'] <= 10])"
   ]
  },
  {
   "cell_type": "code",
   "execution_count": 901,
   "metadata": {},
   "outputs": [
    {
     "name": "stdout",
     "output_type": "stream",
     "text": [
      "385 {'追求', '学员', '发动', '星球', '武道', '未知', '实战', '躲避', '绿色', '帝国', '制造', '神秀', '专业', '锻炼', '功法', '将军', '京城', '老爷', '金属', '善良', '游戏', '爷爷', '皇后', '传送', '金色', '机甲', '村长', '相当于', '威力', '爪子', '庞大', '新人', '等于', '训练', '幸运', '记载', '逃跑', '凌风', '打赏', '老妖', '炼气', '路西', '强化', '调整', '丹药', '内力', '祭祀', '技术', '具有', '根本无法', '杀死', '境界', '提升', '黄金', '奢华', '纯净', '意味着', '强者', '元气', '吸收', '匕首', '混沌', '貌似', '动物', '感应', '尊贵', '收集', '统一', '长老', '魔力', '惨叫', '知晓', '出发', '成就', '纯洁', '大师', '化为', '宗门', '魔法师', '爸爸', '宿舍', '阴阳', '级别', '射击', '大臣', '精灵', '金币', '修行', '通道', '青铜', '震撼', '带领', '杀手', '笑笑', '严厉', '召唤', '弟子', '战斗', '蜘蛛', '灵气', '飞行', '技能', '武魂', '斗气', '追杀', '武技', '波动', '教官', '少爷', '陛下', '奖励', '考试', '青云', '胜利', '事儿', '宣布', '咆哮', '数据', '融入', '植物', '军队', '打造', '增强', '火焰', '创造', '贪婪', '野蛮', '子弟', '内功', '种子', '激发', '联邦', '最低', '到达', '角色', '行走', '测试', '团队', '富贵', '鉴定', '皇宫', '尸体', '对抗', '邪恶', '公司', '森林', '武者', '城市', '部落', '基因', '敏捷', '种族', '奔跑', '教育', '细胞', '交易', '尊敬', '老爸', '高贵', '比赛', '融合', '上官', '电脑', '运用', '稳定', '武器', '购买', '计算', '世子', '传承', '楚天', '启动', '收购', '平衡', '资质', '尝试', '限制', '消耗', '许了', '精美', '贵族', '修真', '小队', '微弱', '店铺', '胖子', '奢侈', '修为', '优雅', '取得', '导师', '队伍', '持续', '族长', '老头', '基地', '排名', '魔兽', '吞噬', '玩家', '稀少', '地球', '公主', '极限', '惩罚', '世家', '结合', '进攻', '小白', '皇子', '残酷', '纯粹', '狰狞', '魔法', '兑换', '恶魔', '指挥', '戒指', '主子', '法术', '人类', '学徒', '考核', '电影', '垃圾', '尾巴', '提示', '分析', '老者', '虚拟', '丧尸', '开发', '同学', '皇帝', '修复', '野兽', '犹如', '百姓', '之力', '骑士', '精英', '火球', '大陆', '怪物', '太太', '嬷嬷', '脆弱', '法师', '林家', '潜能', '拍卖', '开启', '死去', '妈妈', '实验', '战士', '大汉', '挑战', '觉醒', '盗贼', '新生', '反击', '老爷子', '擅长', '遇上', '具备', '冲击', '宁城', '战场', '血脉', '毕业', '院长', '俊美', '宫女', '蓝色', '青山', '猎杀', '强悍', '为主', '大学', '老妈', '精神力', '武士', '组成', '繁华', '极品', '变异', '教练', '丫鬟', '资源', '类型', '体质', '复活', '天才', '作战', '机械', '学校', '佣兵', '士兵', '学院', '建立', '突破', '中国', '管家', '宠物', '设计', '手机', '教授', '跳跃', '改造', '转化', '技巧', '投入', '观看', '出色', '肮脏', '首饰', '感知', '网络', '掌柜', '奇异', '位面', '子弹', '部队', '地说', '职业', '英雄', '奴隶', '无锋', '司徒', '宇宙', '猴子', '袭击', '能量', '进化', '叔叔', '分为', '伟大', '付出', '皇上', '教室', '系统', '光明', '火系', '属性', '遭到', '元素', '物品', '秘籍', '装备', '队长', '卑微', '战争', '防御', '练习', '兵器', '巅峰', '生物', '出售', '制作', '管理', '公会', '欧阳', '呆呆', '剑法', '沟通', '修炼', '剑士', '挑选', '炼丹', '马车', '成绩', '异能', '资料', '书籍', '升级', '赚钱', '修士', '成长', '记录', '星辰', '毁灭', '组织', '恭喜', '功能'}\n"
     ]
    }
   ],
   "source": [
    "#Below is a snowball that starts from the seed and expand outward \n",
    "seed= \"奴隶\"\n",
    "layer= 2\n",
    "sub_nod= set()\n",
    "i= 0\n",
    "while i<layer:\n",
    "    if i== 0:\n",
    "        neighbour= list(g_3.neighbors(seed))\n",
    "        sub_nod.update(neighbour)\n",
    "        to_do= neighbour\n",
    "        i+= 1\n",
    "    else:\n",
    "        before= sub_nod\n",
    "        for w in to_do:\n",
    "            neighbour= list(g_3.neighbors(w))\n",
    "            sub_nod.update(neighbour)\n",
    "        to_do= sub_nod- before\n",
    "        i+= 1\n",
    "            \n",
    "sub_node= sub_nod \n",
    "\n",
    "g_sub= g_3.subgraph(sub_node)    \n",
    "\n",
    "print(len(sub_node), sub_node)"
   ]
  },
  {
   "cell_type": "code",
   "execution_count": 899,
   "metadata": {},
   "outputs": [
    {
     "name": "stdout",
     "output_type": "stream",
     "text": [
      "Name: \n",
      "Type: SubGraph\n",
      "Number of nodes: 385\n",
      "Number of edges: 6849\n",
      "Average degree:  35.5792\n"
     ]
    }
   ],
   "source": [
    "print(nx.info(g_sub))"
   ]
  },
  {
   "cell_type": "code",
   "execution_count": 898,
   "metadata": {},
   "outputs": [
    {
     "data": {
      "image/png": "[encoded data removed]",
      "text/plain": [
       "<matplotlib.figure.Figure at 0x1feb9780b8>"
      ]
     },
     "metadata": {},
     "output_type": "display_data"
    }
   ],
   "source": [
    "nx.draw_networkx(g_sub)"
   ]
  }
 ],
 "metadata": {
  "kernelspec": {
   "display_name": "Python 3",
   "language": "python",
   "name": "python3"
  },
  "language_info": {
   "codemirror_mode": {
    "name": "ipython",
    "version": 3
   },
   "file_extension": ".py",
   "mimetype": "text/x-python",
   "name": "python",
   "nbconvert_exporter": "python",
   "pygments_lexer": "ipython3",
   "version": "3.6.4"
  }
 },
 "nbformat": 4,
 "nbformat_minor": 2
}
