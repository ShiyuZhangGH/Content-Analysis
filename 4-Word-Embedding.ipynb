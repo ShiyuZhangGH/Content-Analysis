{
 "cells": [
  {
   "cell_type": "code",
   "execution_count": 3,
   "metadata": {
    "collapsed": false
   },
   "outputs": [],
   "source": [
    "#Special module written for this class\n",
    "#This provides access to data and to helper functions from previous weeks\n",
    "#Make sure you update it before starting this notebook\n",
    "import lucem_illud #pip install -U git+git://github.com/Computational-Content-Analysis-2018/lucem_illud.git\n",
    "\n",
    "#All these packages need to be installed from pip\n",
    "import gensim#For word2vec, etc\n",
    "import requests #For downloading our datasets\n",
    "import nltk #For stop words and stemmers\n",
    "import numpy as np #For arrays\n",
    "import pandas as pd\n",
    "import matplotlib.pyplot as plt #For graphics\n",
    "import seaborn #Makes the graphics look nicer\n",
    "import sklearn.metrics.pairwise #For cosine similarity\n",
    "import sklearn.manifold #For T-SNE\n",
    "import sklearn.decomposition #For PCA\n",
    "\n",
    "#gensim uses a couple of deprecated features\n",
    "#we can't do anything about them so lets ignore them \n",
    "import warnings\n",
    "warnings.filterwarnings(\"ignore\", category=DeprecationWarning) \n",
    "\n",
    "#This 'magic' command makes the plots work better\n",
    "#in the notebook, don't use it outside of a notebook.\n",
    "#Also you can ignore the warning\n",
    "%matplotlib inline\n",
    "\n",
    "import os #For looking through files\n",
    "import os.path #For managing file paths"
   ]
  },
  {
   "cell_type": "markdown",
   "metadata": {},
   "source": [
    "<span style=\"color:green\"> I refer to the novels targeting male audience as male novels and the novels targeting female audience as female novels. Of course, there is no guarantee that only women read female novels and only men read male novels. But, in qidian's categorizations, there is a place where I can choose \"boys\" or \"girls\" (https://www.qidian.com/all). If I click \"boys\", then the website jumps to \"起点中文网\"; and if I click \"girls\", then the website jumps to \"起点女生网\". The gender differentation is built into the website."
   ]
  },
  {
   "cell_type": "code",
   "execution_count": 4,
   "metadata": {
    "collapsed": true
   },
   "outputs": [],
   "source": [
    "bookDF_male_tokenized= pd.read_pickle(\"bookDF_male_tokenized.pickle\")\n",
    "bookDF_female_tokenized= pd.read_pickle(\"bookDF_female_tokenized.pickle\")"
   ]
  },
  {
   "cell_type": "code",
   "execution_count": 5,
   "metadata": {
    "collapsed": true
   },
   "outputs": [],
   "source": [
    "\n",
    "helper_col= []\n",
    "for i in range(30):\n",
    "    helper_col+= [\"ch\"+str(i+1)+\"_clean\"]\n",
    "bookDF_ch= pd.concat([bookDF_male_tokenized[helper_col], bookDF_female_tokenized[helper_col]], axis= 0)\n",
    "bookDF_ch[\"book_gender\"]= [\"boy\"]* 500+ [\"girl\"]* 500\n",
    "\n",
    "#Collapse 30 chapters\n",
    "helper_lis= [] \n",
    "for i in range(bookDF_ch.shape[0]):\n",
    "    cell= []\n",
    "    for j in range(30):\n",
    "        cell+= bookDF_ch.iloc[i][\"ch\"+str(j+1)+\"_clean\"]\n",
    "    helper_lis+= [cell]\n",
    "    \n",
    "bookDF_ch[\"30_ch_list\"]= helper_lis"
   ]
  },
  {
   "cell_type": "code",
   "execution_count": 134,
   "metadata": {
    "collapsed": true
   },
   "outputs": [],
   "source": [
    "#Data managing, combining the 30 chapters (of each novel) into one cell and clean out unwanted words\n",
    "helper_col= []\n",
    "for i in range(30):\n",
    "    helper_col+= [\"ch\"+str(i+1)+\"_tag_clean\"]\n",
    "\n",
    "bookDF_ch_male= bookDF_male_tokenized[helper_col]\n",
    "bookDF_ch_female= bookDF_female_tokenized[helper_col]\n",
    "bookDF_ch= pd.concat([bookDF_ch_male, bookDF_ch_female], axis= 0)\n",
    "bookDF_ch[\"book_gender\"]=  [\"boy\"]* 500+ [\"girl\"]* 500\n",
    "\n",
    "\n",
    "#Collapse 30 chapters (30 columns into one) for male and female version separately\n",
    "helper_lis= [] \n",
    "for i in range(bookDF_ch.shape[0]): \n",
    "    cell= []\n",
    "    cell= []\n",
    "    for j in range(30):\n",
    "        cell+= bookDF_ch.iloc[i][\"ch\"+str(j+1)+\"_tag_clean\"]\n",
    "    helper_lis+= [cell]\n",
    "\n",
    "    \n",
    "keep_tag= [\"a\", \"ag\", \"ad\", \"an\", \"d\", \"e\",\n",
    "           \"i\", \"l\", \"ng\", \"o\",\n",
    "           \"s\", \"tg\", \"t\", \"vg\", \"v\", \"vn\", \"z\"]\n",
    "\n",
    "word= []\n",
    "for i in range(bookDF_ch.shape[0]):\n",
    "    cell= []\n",
    "    for w1, t1 in helper_lis[i]:\n",
    "        if w1 in [\"他\", \"她\"]:\n",
    "            cell+= [w1]\n",
    "        elif t1 in keep_tag:\n",
    "            cell+= [w1]\n",
    "    word+= [cell]\n",
    "\n",
    "bookDF_ch[\"30_ch_list\"]= word"
   ]
  },
  {
   "cell_type": "code",
   "execution_count": 135,
   "metadata": {
    "collapsed": false
   },
   "outputs": [],
   "source": [
    "#Replace 他 and 她 in the two kinds of novel.\n",
    "#For the male-novels, 他= male_he, 她= male_she\n",
    "#For the female-novels, 他= female_he, 她= female_she\n",
    "\n",
    "def replace_character_maleN(wordlist):\n",
    "    new_wordlist= []\n",
    "    for w in wordlist:\n",
    "        if w== \"他\":\n",
    "            new_wordlist+= [\"male_he\"]\n",
    "        elif w== \"她\":\n",
    "            new_wordlist+= [\"male_she\"]\n",
    "        else:\n",
    "            new_wordlist+= [w]\n",
    "    return [new_wordlist]\n",
    "        \n",
    "def replace_character_femaleN(wordlist):\n",
    "    new_wordlist= []\n",
    "    for w in wordlist:\n",
    "        if w== \"他\":\n",
    "            new_wordlist+= [\"female_he\"]\n",
    "        elif w== \"她\":\n",
    "            new_wordlist+= [\"female_she\"]\n",
    "        else:\n",
    "            new_wordlist+= [w]\n",
    "    return [new_wordlist]\n",
    "\n",
    "bookDF_ch[\"30_ch_list_replace\"]= pd.concat([bookDF_ch[\"30_ch_list\"].iloc[:500].apply(lambda x: replace_character_maleN(x)),\n",
    "                                        bookDF_ch[\"30_ch_list\"].iloc[500:].apply(lambda x: replace_character_femaleN(x))],\n",
    "                                        axis= 0)\n",
    "                                        "
   ]
  },
  {
   "cell_type": "markdown",
   "metadata": {},
   "source": [
    "## <span style=\"color:purple\"> Exercise 1\n",
    "<span style=\"color:purple\"> Construct cells immediately below this that build a word2vec model with your corpus. Interrogate word relationships in the resulting space, including estimating 90% confidence intervals for specific word cosine distances of interest. Plot a subset of your words. What do these word relationships reveal about the social and cultural game underlying your corpus? What was surprising--what violated your prior understanding of the corpus? What was expected--what confirmed your knowledge about this domain?"
   ]
  },
  {
   "cell_type": "code",
   "execution_count": 7,
   "metadata": {
    "collapsed": false
   },
   "outputs": [],
   "source": [
    "#Default, 5 times training\n",
    "bookW2V = gensim.models.word2vec.Word2Vec(bookDF_ch[\"30_ch_list_replace\"].sum())"
   ]
  },
  {
   "cell_type": "markdown",
   "metadata": {},
   "source": [
    "<span style=\"color:green\"> This part is to decide how many epoches I need. "
   ]
  },
  {
   "cell_type": "code",
   "execution_count": 136,
   "metadata": {
    "collapsed": false
   },
   "outputs": [
    {
     "name": "stdout",
     "output_type": "stream",
     "text": [
      "Done epoch 1\n",
      "Done epoch 2\n",
      "Done epoch 3\n",
      "Done epoch 4\n",
      "Done epoch 5\n",
      "Done epoch 6\n",
      "Done epoch 7\n",
      "Done epoch 8\n",
      "Done epoch 9\n",
      "Done epoch 10\n",
      "Done epoch 11\n",
      "Done epoch 12\n",
      "Done epoch 13\n",
      "Done epoch 14\n",
      "Done epoch 15\n",
      "Done epoch 16\n",
      "Done epoch 17\n",
      "Done epoch 18\n",
      "Done epoch 19\n",
      "Done epoch 20\n"
     ]
    },
    {
     "name": "stderr",
     "output_type": "stream",
     "text": [
      "//anaconda/lib/python3.5/site-packages/matplotlib/font_manager.py:1320: UserWarning: findfont: Font family ['Microsoft YaHei'] not found. Falling back to DejaVu Sans\n",
      "  (prop.get_family(), self.defaultFamily[fontext]))\n"
     ]
    },
    {
     "data": {
      "image/png": "[encoded data removed]",
      "text/plain": [
       "<matplotlib.figure.Figure at 0x47682c550>"
      ]
     },
     "metadata": {},
     "output_type": "display_data"
    }
   ],
   "source": [
    "losses=[]\n",
    "bookW2V_loss = gensim.models.word2vec.Word2Vec(size = 200, #dimensions\n",
    "                                               alpha=0.025,\n",
    "                                               window=5,\n",
    "                                               min_count=5,\n",
    "                                               hs=0,  #hierarchical softmax toggle\n",
    "                                               compute_loss = True)\n",
    "bookW2V_loss.build_vocab(bookDF_ch[\"30_ch_list_replace\"].sum())\n",
    "for i in range(20):\n",
    "    bookW2V_loss.train(bookDF_ch[\"30_ch_list_replace\"].sum(), \n",
    "                       total_examples=bookW2V_loss.corpus_count, \n",
    "                       epochs=1)\n",
    "    losses.append(bookW2V_loss.get_latest_training_loss())#running_training_loss\n",
    "    print(\"Done epoch {}\".format(i + 1))\n",
    "\n",
    "lossesDF = pd.DataFrame({'loss' : losses, 'epoch' : range(len(losses))})\n",
    "lossesDF.plot(y = 'loss', x = 'epoch',logy=False, figsize=(15, 7))\n",
    "plt.show()"
   ]
  },
  {
   "cell_type": "markdown",
   "metadata": {},
   "source": [
    "<span style=\"color:green\"> After training for 20 times. I can see that the decrease in train loss slows down. I think 20 epochs seem to be a reasonable amount of iteration. \n",
    "\n",
    "<span style=\"color:green\"> I  explore some gender-related characteristics of the fictions.\n",
    "\n",
    "    In male novels, \"she\" occurs less frequent than \"he\" (3 times less frequent!), which means that \"she\" is probably not the main character in the novels that target on male audience. In female novels, \"she\" occurs a similar amount of times as \"he\", meaning that both gender play important roles in novels targeting female audience.\n",
    "\n",
    "    I look at the top 200 most similar words to \"he\" and \"she\" in male and female novels. The pattern confirms the gender stereotypes. \"he\" is protrayed very differently from \"she\". \n",
    "\n",
    "    Next, I take the first 200 most similar words around the four characters, calculate cosine similarity between each word pair and take an average of the 200*200 cosine scores. In male novels, \"she\" is associated with more homogeneous words than \"he\". In the female novels, the homogeneity of the words around \"he\" and \"she\" is similar. \n",
    "    \n",
    "    I also tested the \"queen= king + man - woman\" logic to find the words corresponding to \"he\" and \"she\". However, the restuls of this operation are very unstable. If I train the model 20 times, I get very different restuls comparing to training the model 5 times (default). This is understandable becuase finding the most similar words is too specific and any changes in the model can change the restult. My conclusion is that this is interesting and fun. But it's results are not reliable unless I have a list of words that I can use to find the commensurate systematically.\n",
    "    \n",
    "<span style=\"color:green\"> The bootstraping generate strange restuls. The cosine estimates of the 20 bootstrap samples are very different from the original one. I have tested it more than one time and double check my code with the example codes. I do not know why... "
   ]
  },
  {
   "cell_type": "code",
   "execution_count": 229,
   "metadata": {
    "collapsed": false
   },
   "outputs": [
    {
     "data": {
      "text/plain": [
       "{'female_he': 148773,\n",
       " 'female_she': 298651,\n",
       " 'male_he': 250861,\n",
       " 'male_she': 49675}"
      ]
     },
     "execution_count": 229,
     "metadata": {},
     "output_type": "execute_result"
    }
   ],
   "source": [
    "#How many times did the four character occurs?\n",
    "dic_count= {\"male_he\": 0,\n",
    "            \"male_she\": 0,\n",
    "            \"female_he\": 0,\n",
    "            \"female_she\": 0}\n",
    "\n",
    "for i in range(len(bookDF_ch[\"30_ch_list_replace\"])):\n",
    "    b= bookDF_ch[\"30_ch_list_replace\"].iloc[i]\n",
    "    for w in b[0]:\n",
    "        if w== \"male_he\":\n",
    "            dic_count[\"male_he\"]+= 1\n",
    "        elif w== \"male_she\":\n",
    "            dic_count[\"male_she\"]+= 1\n",
    "        elif w== \"female_he\":\n",
    "            dic_count[\"female_he\"]+= 1\n",
    "        elif w== \"female_she\":\n",
    "            dic_count[\"female_she\"]+= 1\n",
    "\n",
    "dic_count   "
   ]
  },
  {
   "cell_type": "code",
   "execution_count": 137,
   "metadata": {
    "collapsed": false,
    "scrolled": true
   },
   "outputs": [
    {
     "name": "stdout",
     "output_type": "stream",
     "text": [
      "he in male novel: \n",
      " [('female_she', 0.45786333084106445), ('教练', 0.407848596572876), ('female_he', 0.4062231779098511), ('认不', 0.32337355613708496), ('对此', 0.31825435161590576), ('但他却', 0.30925098061561584), ('吃喝玩乐', 0.30393558740615845), ('没教', 0.3007439076900482), ('一无所知', 0.2968454957008362), ('前世', 0.296095073223114), ('上辈子', 0.2951441705226898), ('装傻充愣', 0.2950851321220398), ('糊里糊涂', 0.290949285030365), ('不爱', 0.28677016496658325), ('检举', 0.2831132411956787), ('亏欠', 0.28065910935401917), ('半路出家', 0.2792220413684845), ('一窍不通', 0.27783873677253723), ('怎样才能', 0.27734631299972534), ('自已', 0.2746049165725708), ('知识', 0.2740222215652466), ('家庭出身', 0.2731030583381653), ('唐三', 0.27200937271118164), ('贪财', 0.271005243062973), ('茶余饭后', 0.27002325654029846), ('共同语言', 0.2694830000400543), ('一世', 0.2678681015968323), ('耳濡目染', 0.26772749423980713), ('平平淡淡', 0.2667649984359741), ('练舞', 0.26567113399505615), ('同吃同住', 0.26528531312942505), ('贫困', 0.26477181911468506), ('耕', 0.2637579143047333), ('问来问去', 0.2629786431789398), ('着能', 0.2624104619026184), ('听不进去', 0.26201650500297546), ('没人', 0.2615530490875244), ('看不起', 0.26124411821365356), ('一技之长', 0.26115119457244873), ('无意', 0.26017653942108154), ('很穷', 0.2601167857646942), ('两眼一抹黑', 0.259291410446167), ('迷信', 0.25914767384529114), ('肯为', 0.258036345243454), ('不想', 0.25802120566368103), ('其实', 0.2570917308330536), ('严刑拷打', 0.25705230236053467), ('彻彻底底', 0.25702422857284546), ('不闻不问', 0.25690168142318726), ('儿孙满堂', 0.2564295828342438), ('直到现在', 0.2564033269882202), ('肯', 0.2555304169654846), ('没有', 0.2554958462715149), ('说辞', 0.25531136989593506), ('不切实际', 0.2548461854457855), ('发不起', 0.2544569969177246), ('别有用心', 0.2543591260910034), ('管好', 0.25431740283966064), ('希望', 0.2535569369792938), ('现在', 0.25333744287490845), ('苦读', 0.25252869725227356), ('凭直觉', 0.25230351090431213), ('初衷', 0.25097501277923584), ('理所当然', 0.2509133815765381), ('不良', 0.2505964934825897), ('偷鸡摸狗', 0.25042617321014404), ('一直', 0.25033968687057495), ('挂名', 0.25018924474716187), ('辰天', 0.2500864565372467), ('奢望', 0.2500215768814087), ('带练', 0.2491151988506317), ('不懂', 0.24885225296020508), ('先入为主', 0.24849575757980347), ('肤浅', 0.24824756383895874), ('何许人也', 0.2474316954612732), ('要钱', 0.24701254069805145), ('真相', 0.2456342726945877), ('拼搏', 0.24540968239307404), ('缺钱', 0.24539609253406525), ('转班', 0.2452474981546402), ('想法', 0.24501186609268188), ('多难', 0.2448381632566452), ('扬名立万', 0.24390576779842377), ('辍学', 0.24388530850410461), ('最起码', 0.2434055209159851), ('从小', 0.2433566004037857), ('自作多情', 0.243224635720253), ('破罐子破摔', 0.2430827021598816), ('半途而废', 0.24297025799751282), ('当上', 0.24294070899486542), ('海外关系', 0.24288694560527802), ('抚养', 0.24287092685699463), ('学习', 0.24275943636894226), ('九节', 0.24216565489768982), ('没上', 0.24192582070827484), ('混过', 0.24148602783679962), ('冲锋陷阵', 0.24116182327270508), ('换作', 0.24113795161247253), ('挺熟', 0.239904522895813), ('一无是处', 0.2398039698600769), ('萧洒', 0.23945468664169312), ('痛定思痛', 0.23886336386203766), ('不良嗜好', 0.23839524388313293), ('死心眼', 0.2381511926651001), ('不大清楚', 0.23811191320419312), ('一钱不值', 0.23799069225788116), ('撒谎', 0.2379288673400879), ('选修课', 0.23754653334617615), ('根本', 0.23748257756233215), ('玩不转', 0.23718662559986115), ('这辈子', 0.23714280128479004), ('欺男霸女', 0.23709683120250702), ('娶妻生子', 0.23676662147045135), ('反正', 0.23674777150154114), ('一心', 0.2367207109928131), ('延续下去', 0.23666587471961975), ('并不一定', 0.23595744371414185), ('感恩', 0.2348553091287613), ('过要', 0.23474332690238953), ('抛离', 0.2346285879611969), ('人情世故', 0.2340536266565323), ('混混', 0.2340075522661209), ('认命', 0.23391686379909515), ('考上', 0.2338300198316574), ('此前', 0.23368099331855774), ('想当然', 0.23366211354732513), ('没见识', 0.23343342542648315), ('当初', 0.23340463638305664), ('有心', 0.2328449934720993), ('林', 0.23269951343536377), ('浅薄', 0.23206138610839844), ('散打', 0.23193177580833435), ('发疯', 0.2317693680524826), ('人生哲理', 0.2316582351922989), ('没抱', 0.23157571256160736), ('人外有人', 0.23062078654766083), ('阅历', 0.23037366569042206), ('提过', 0.2300325185060501), ('做点事', 0.2300230860710144), ('了要', 0.22982260584831238), ('不求甚解', 0.22971823811531067), ('虚无缥缈', 0.22964143753051758), ('一门心思', 0.2296038717031479), ('收留', 0.22944918274879456), ('没人会', 0.22916336357593536), ('批评', 0.22877240180969238), ('后来', 0.22854912281036377), ('尔虞我诈', 0.22814036905765533), ('看待', 0.2280755490064621), ('启蒙教育', 0.22773377597332), ('滚瓜烂熟', 0.22768205404281616), ('临终前', 0.22742530703544617), ('两世为人', 0.2272806614637375), ('鼻涕虫', 0.22727829217910767), ('一心一意', 0.22720828652381897), ('揭发', 0.22720582783222198), ('教育', 0.22659149765968323), ('没', 0.2260856330394745), ('匮', 0.22601521015167236), ('半吊子', 0.22593778371810913), ('花天酒地', 0.22585344314575195), ('也许', 0.2255486100912094), ('转业', 0.22551259398460388), ('没读', 0.2250988483428955), ('这两点', 0.22478270530700684), ('不靠', 0.2241370677947998), ('耍起', 0.22408875823020935), ('自知之明', 0.22364526987075806), ('退伍', 0.22337178885936737), ('危难', 0.22291335463523865), ('圆谎', 0.22277489304542542), ('期望', 0.22269117832183838), ('说到做到', 0.2225237637758255), ('考古', 0.22251996397972107), ('共患难', 0.22238191962242126), ('赚钱', 0.2223542332649231), ('受够了', 0.22228878736495972), ('相处', 0.22221225500106812), ('事在人为', 0.2220267951488495), ('试训', 0.22199136018753052), ('不明智', 0.22189509868621826), ('溺爱', 0.2217588722705841), ('一问三不知', 0.22174738347530365), ('家境贫寒', 0.22164852917194366), ('不练', 0.2215590626001358), ('上眼', 0.22152188420295715), ('自闭', 0.22144776582717896), ('长久以来', 0.22141441702842712), ('场边', 0.22137820720672607), ('说句实话', 0.22131015360355377), ('告到', 0.22111229598522186), ('童年', 0.22095543146133423), ('光顾', 0.22076600790023804), ('所作所为', 0.22074392437934875), ('使然', 0.22053423523902893), ('事实上', 0.22028592228889465), ('想要', 0.2202291190624237), ('打架', 0.22021129727363586), ('愿意', 0.22019846737384796), ('初来乍到', 0.2201765924692154)]\n",
      "\n",
      "she in male novel: \n",
      " [('female_she', 0.5360350012779236), ('female_he', 0.4197423756122589), ('害羞', 0.39957255125045776), ('吃醋', 0.39726147055625916), ('安雅', 0.38439464569091797), ('俏', 0.38307395577430725), ('柔若无骨', 0.37016597390174866), ('心地善良', 0.3638209402561188), ('娇嗔', 0.36300477385520935), ('娇声道', 0.3630010485649109), ('晓之以理', 0.3593142032623291), ('温柔', 0.35294872522354126), ('清纯', 0.35157328844070435), ('接吻', 0.35114872455596924), ('动之以情', 0.34890466928482056), ('一见钟情', 0.3486950397491455), ('妩媚', 0.34706977009773254), ('不忍心', 0.34595346450805664), ('说破', 0.34592074155807495), ('暗恋', 0.3434670567512512), ('一厢情愿', 0.34022262692451477), ('漂亮', 0.33805912733078003), ('温婉', 0.336434543132782), ('嫣然一笑', 0.33594292402267456), ('浪漫', 0.33544912934303284), ('偏见', 0.33515554666519165), ('梨花带雨', 0.33213546872138977), ('繁炽', 0.3309013843536377), ('婷婷', 0.33019405603408813), ('柔弱', 0.3295063376426697), ('天真无邪', 0.32852622866630554), ('娴', 0.32847660779953003), ('善解人意', 0.3232591450214386), ('登徒子', 0.3228887915611267), ('初恋', 0.31856346130371094), ('撮合', 0.3184410333633423), ('扭扭捏捏', 0.3173455595970154), ('赧然', 0.3164183497428894), ('撒娇', 0.31618815660476685), ('窘迫', 0.31526491045951843), ('柔柔的', 0.3128950893878937), ('甜甜', 0.3126816153526306), ('过生日', 0.31180593371391296), ('娇弱', 0.31029823422431946), ('水汪汪', 0.30932724475860596), ('娇羞', 0.30896347761154175), ('俏皮', 0.30805647373199463), ('涵', 0.30762797594070435), ('情窦初开', 0.30707138776779175), ('慰慰', 0.30649521946907043), ('女流之辈', 0.30526596307754517), ('嘴甜', 0.3048614263534546), ('不懂事', 0.3037158250808716), ('溺爱', 0.3034766912460327), ('泼辣', 0.3034586012363434), ('欣', 0.30312246084213257), ('贤惠', 0.30088090896606445), ('心软', 0.30041325092315674), ('好想你', 0.30038943886756897), ('好不好', 0.29949474334716797), ('弘历', 0.2986145615577698), ('轻咬', 0.2985210716724396), ('了苏', 0.298156201839447), ('唐夕', 0.2979602813720703), ('冲野', 0.29781582951545715), ('嗔道', 0.29619261622428894), ('倾慕', 0.29389840364456177), ('绯红', 0.293633371591568), ('春儿', 0.29356759786605835), ('可爱', 0.2934144139289856), ('娟子', 0.292929470539093), ('萧柔', 0.2926795184612274), ('羞', 0.2922062873840332), ('表白', 0.29212284088134766), ('初然', 0.2912081480026245), ('嘘寒问暖', 0.29073312878608704), ('色迷迷', 0.29066431522369385), ('孤男寡女', 0.29033035039901733), ('妩媚动人', 0.29031726717948914), ('搂住', 0.2894090414047241), ('粉嫩', 0.2890719771385193), ('柔声道', 0.28856706619262695), ('倔强', 0.28807932138442993), ('年轻漂亮', 0.2879737615585327), ('拐走', 0.28756609559059143), ('婉', 0.28705987334251404), ('腼腆', 0.2858240008354187), ('撩人', 0.2849821448326111), ('琅玥', 0.2848514914512634), ('吵架', 0.2841944098472595), ('红着脸', 0.2841782569885254), ('莹莹', 0.28380265831947327), ('死缠烂打', 0.2835850417613983), ('妇', 0.2827479839324951), ('粉雕玉琢', 0.2826942801475525), ('执拗', 0.282588928937912), ('娴淑', 0.28147196769714355), ('娇柔', 0.28097739815711975), ('示爱', 0.28088700771331787), ('妞', 0.28087401390075684), ('固执', 0.2794538736343384), ('单纯', 0.2791023254394531), ('娇嫩', 0.2790220379829407), ('理亏', 0.2787208557128906), ('拒人千里', 0.27841711044311523), ('自已', 0.27827149629592896), ('红红的', 0.278205931186676), ('落泪', 0.2779814302921295), ('怜香惜玉', 0.27758705615997314), ('取笑', 0.277586430311203), ('萧奇', 0.27741196751594543), ('暧', 0.27625781297683716), ('最疼', 0.27542346715927124), ('如花似玉', 0.27514219284057617), ('牵手', 0.27495330572128296), ('红了脸', 0.2748367488384247), ('嫁鸡随鸡', 0.2747657895088196), ('娇美', 0.2744241952896118), ('相亲', 0.2734232544898987), ('楚楚动人', 0.27272212505340576), ('自惭形秽', 0.2723245620727539), ('纤细', 0.2717381715774536), ('婚前', 0.27167361974716187), ('怜爱', 0.2713553011417389), ('真的', 0.27117568254470825), ('甜言蜜语', 0.2711707055568695), ('一颦一笑', 0.270990252494812), ('心地', 0.2705851197242737), ('咪咪', 0.27014562487602234), ('初见', 0.26982080936431885), ('我见犹怜', 0.26975712180137634), ('凌夏', 0.26974019408226013), ('结婚', 0.2697365880012512), ('柔顺', 0.2691340446472168), ('看白', 0.26911014318466187), ('娇俏', 0.2688957750797272), ('柔嫩', 0.26860398054122925), ('喜心', 0.26837074756622314), ('偎', 0.2677167057991028), ('了紧', 0.2675703763961792), ('示好', 0.2672051191329956), ('淘气', 0.2669564485549927), ('娴静', 0.26654118299484253), ('难为情', 0.26629775762557983), ('浅浅', 0.26615607738494873), ('伤心欲绝', 0.2658722996711731), ('羞涩', 0.2658015787601471), ('说', 0.26540425419807434), ('闹别扭', 0.2652283310890198), ('执皓', 0.26508426666259766), ('依恋', 0.2649646997451782), ('调皮捣蛋', 0.26432520151138306), ('活泼可爱', 0.2639935612678528), ('晚秋', 0.26388370990753174), ('以貌取人', 0.26382166147232056), ('坚强', 0.26314568519592285), ('艳光四射', 0.26264503598213196), ('的忙', 0.26253175735473633), ('分手', 0.26224586367607117), ('无可挑剔', 0.26219451427459717), ('纯真', 0.26197975873947144), ('秀雅', 0.26177921891212463), ('扭捏', 0.2616380453109741), ('亲', 0.26102378964424133), ('甜甜地', 0.26056724786758423), ('笑一笑', 0.2601364850997925), ('洁', 0.25981035828590393), ('娇', 0.2596656084060669), ('恨铁不成钢', 0.2595728635787964), ('柔美', 0.25946885347366333), ('无微不至', 0.2594272494316101), ('说真的', 0.25930240750312805), ('姗姗', 0.2592466473579407), ('说不出口', 0.25862616300582886), ('撞鬼', 0.2580256164073944), ('讨厌', 0.2576069235801697), ('得寸进尺', 0.25754594802856445), ('嫁', 0.2573971748352051), ('自尊心', 0.25711148977279663), ('玲珑', 0.2571033835411072), ('要给', 0.2569025754928589), ('娇纵', 0.2568192780017853), ('成婚', 0.2567843198776245), ('缱绻', 0.25630804896354675), ('脸皮薄', 0.25610148906707764), ('惜', 0.25580108165740967), ('未婚', 0.25580036640167236), ('若尘', 0.2556537389755249), ('氏', 0.25541403889656067), ('方铮', 0.2551262676715851), ('懒', 0.2545750141143799), ('配不上', 0.25455427169799805), ('晨晨', 0.25417521595954895), ('不领情', 0.25399723649024963), ('不在', 0.2536705434322357), ('勾走', 0.2534973621368408), ('眼高于顶', 0.253199964761734), ('青春期', 0.2531498670578003), ('劝慰', 0.2530674338340759), ('霏霏', 0.2527405023574829)]\n",
      "\n",
      "he in female novel: \n",
      " [('female_she', 0.47312623262405396), ('male_she', 0.4197424054145813), ('male_he', 0.4062231779098511), ('做错事', 0.3857603967189789), ('吃醋', 0.36979082226753235), ('嬉皮笑脸', 0.36595696210861206), ('登徒子', 0.3633934259414673), ('欺骗', 0.3631996512413025), ('多管闲事', 0.35987481474876404), ('不熟', 0.3537691831588745), ('说', 0.3507896661758423), ('管好', 0.34889429807662964), ('口口声声', 0.34494924545288086), ('记恨', 0.3439921438694), ('自作多情', 0.3418501615524292), ('守规矩', 0.33884233236312866), ('一而再', 0.33768901228904724), ('厌', 0.3351450562477112), ('吭气', 0.3337952494621277), ('配不上', 0.33136889338493347), ('与我无关', 0.33130308985710144), ('恪守', 0.32970717549324036), ('想', 0.32619982957839966), ('真的', 0.324855238199234), ('还用说', 0.323387086391449), ('说话', 0.3226124346256256), ('知道', 0.3220384418964386), ('忘恩负义', 0.32151544094085693), ('作对', 0.319896399974823), ('不管不顾', 0.318403035402298), ('溺爱', 0.3178175091743469), ('理直气壮', 0.31748324632644653), ('不会', 0.3166532516479492), ('咪咪', 0.31442636251449585), ('再而三', 0.31367263197898865), ('装傻充愣', 0.3135151267051697), ('撒谎', 0.31265586614608765), ('好声好气', 0.31194037199020386), ('好话', 0.31060922145843506), ('耍赖', 0.30955585837364197), ('诬陷', 0.30941933393478394), ('无理取闹', 0.3093686103820801), ('反问', 0.30926430225372314), ('认错', 0.30912235379219055), ('自以为是', 0.3088308274745941), ('示好', 0.3079274892807007), ('孤煌', 0.3075840175151825), ('要你管', 0.3073488473892212), ('一字一句', 0.3069264888763428), ('说谎', 0.3064301609992981), ('萧洒', 0.30578529834747314), ('捉弄', 0.3051905035972595), ('放手', 0.3049473762512207), ('落井下石', 0.30434703826904297), ('赖账', 0.30423060059547424), ('伴读', 0.30390632152557373), ('好不好', 0.30337390303611755), ('仗势欺人', 0.3032548725605011), ('温柔', 0.3023708462715149), ('不放', 0.30225545167922974), ('有错', 0.30198103189468384), ('明明', 0.3019707202911377), ('萧湛', 0.3019559979438782), ('不知情', 0.3017021417617798), ('戳穿', 0.30068984627723694), ('死不承认', 0.3003882169723511), ('不认', 0.3002663850784302), ('无理', 0.30025482177734375), ('骗', 0.29942405223846436), ('妥协', 0.2993006110191345), ('不听话', 0.29895567893981934), ('悠然', 0.2986724376678467), ('执意', 0.298403799533844), ('托付', 0.29812759160995483), ('感恩', 0.2975412607192993), ('撮合', 0.29697611927986145), ('告状', 0.29653409123420715), ('斥责', 0.2955780625343323), ('别有用心', 0.2954869866371155), ('冰冰', 0.2950763702392578), ('来历不明', 0.2950025498867035), ('顾琅华', 0.2948859930038452), ('初一', 0.29400062561035156), ('要救', 0.29392364621162415), ('不高兴地', 0.2938832640647888), ('好脾气', 0.29329830408096313), ('害人害己', 0.2929726243019104), ('装傻', 0.2928716838359833), ('结仇', 0.29249387979507446), ('无心之过', 0.2917746603488922), ('无赖', 0.29141974449157715), ('记仇', 0.29128557443618774), ('执拗', 0.2902745008468628), ('赔礼道歉', 0.29019710421562195), ('害', 0.289914608001709), ('恪', 0.28964120149612427), ('逞强', 0.2895680069923401), ('不忍心', 0.2894350290298462), ('慰慰', 0.2892215847969055), ('是不是', 0.2887457013130188), ('素不相识', 0.2887084484100342), ('吓成', 0.28804922103881836), ('转班', 0.2880389392375946), ('不介意', 0.28795546293258667), ('强词夺理', 0.28787922859191895), ('吃不了兜着走', 0.28744441270828247), ('冷冷地', 0.2873699963092804), ('来治', 0.28700706362724304), ('顾涉', 0.28672167658805847), ('龌龊', 0.2862575054168701), ('理亏', 0.286228746175766), ('抚养', 0.2861561179161072), ('同性恋', 0.28598880767822266), ('放在心里', 0.28561246395111084), ('存心', 0.28495949506759644), ('勾引', 0.28489014506340027), ('装神弄鬼', 0.28486061096191406), ('败露', 0.2846589982509613), ('不相干', 0.28460341691970825), ('说到做到', 0.28379255533218384), ('冲野', 0.2835771441459656), ('一字一顿', 0.28355610370635986), ('奚落', 0.28328049182891846), ('不懂', 0.2830086052417755), ('自尊心', 0.28279581665992737), ('瞎了眼', 0.2817831337451935), ('临终前', 0.28172963857650757), ('冷淡', 0.2817045748233795), ('娃', 0.2809379994869232), ('大庭广众', 0.2803327441215515), ('巧舌如簧', 0.28026527166366577), ('会', 0.27965420484542847), ('得寸进尺', 0.27920469641685486), ('不怨', 0.2791256010532379), ('不冷不热', 0.27878183126449585), ('变心', 0.2787209153175354), ('撒泼', 0.2786909341812134), ('恨铁不成钢', 0.2786557972431183), ('去不去', 0.2786543071269989), ('恪小郎', 0.2782357335090637), ('无礼', 0.2781406342983246), ('萧柔', 0.2781056761741638), ('娇声道', 0.2780958116054535), ('打伤', 0.27802401781082153), ('叱责', 0.2777016758918762), ('发怒', 0.2774588167667389), ('讨厌', 0.2771603763103485), ('一面之词', 0.27684924006462097), ('再理', 0.2767804265022278), ('和解', 0.2765401303768158), ('靠不住', 0.27608323097229004), ('移情别恋', 0.27577707171440125), ('假扮', 0.27558690309524536), ('宽容', 0.2753542959690094), ('敬重', 0.2749074101448059), ('蒙在鼓里', 0.27458125352859497), ('说真的', 0.2745803892612457), ('最疼', 0.2741760015487671), ('问来问去', 0.2739901542663574), ('临阵脱逃', 0.273540198802948), ('瞪视', 0.2732420563697815), ('舒允', 0.27311280369758606), ('护短', 0.2730749845504761), ('别怪', 0.27291062474250793), ('知不知道', 0.27220818400382996), ('弘历', 0.27217817306518555), ('不离', 0.2721337676048279), ('不配', 0.272057443857193), ('嗔道', 0.27196407318115234), ('连累', 0.271505743265152), ('一般见识', 0.27137547731399536), ('告到', 0.27119874954223633), ('胆小怕事', 0.2711677849292755), ('求情', 0.27115869522094727), ('一口咬定', 0.27095115184783936), ('不肯', 0.270913690328598), ('听不出来', 0.270700067281723), ('控诉', 0.2706909775733948), ('之而后快', 0.2704044580459595), ('弑君', 0.26996946334838867), ('不留情面', 0.26979759335517883), ('不想', 0.2696800231933594), ('否认', 0.26958009600639343), ('殿下', 0.26954522728919983), ('无缘无故', 0.26954078674316406), ('告发', 0.2695156931877136), ('闹别扭', 0.26944398880004883), ('贪玩', 0.2693748474121094), ('直说', 0.26913416385650635), ('交往', 0.26881253719329834), ('高傲', 0.2687109410762787), ('嫁给', 0.2684362530708313), ('甩开', 0.2683882713317871), ('自愿', 0.2683427333831787), ('不识好歹', 0.2683413624763489), ('出卖', 0.268227219581604), ('插手', 0.2679728865623474), ('眉来眼去', 0.26790177822113037), ('欠', 0.2678011953830719), ('繁炽', 0.26779288053512573)]\n",
      "\n",
      "she in female novel: \n",
      " [('male_she', 0.5360350012779236), ('female_he', 0.47312626242637634), ('male_he', 0.45786333084106445), ('现在', 0.4207065999507904), ('知道', 0.41469383239746094), ('想', 0.40234556794166565), ('自已', 0.3933714032173157), ('没有', 0.39106667041778564), ('不会', 0.3887821137905121), ('真的', 0.3867936134338379), ('一世', 0.38592392206192017), ('前世', 0.3858920633792877), ('亏欠', 0.3854990005493164), ('忍气吞声', 0.3807365298271179), ('会', 0.37772345542907715), ('最疼', 0.37685880064964294), ('从前', 0.3755062520503998), ('娟子', 0.37355202436447144), ('溺爱', 0.36647823452949524), ('抚养', 0.36553195118904114), ('春儿', 0.36131536960601807), ('随喜', 0.35942795872688293), ('不懂事', 0.35867631435394287), ('再也不会', 0.35792723298072815), ('做错事', 0.35768750309944153), ('算计', 0.3576802611351013), ('懂事', 0.35297417640686035), ('寄人篱下', 0.34969618916511536), ('一直', 0.346664160490036), ('害', 0.3451251983642578), ('吃醋', 0.3423391580581665), ('嫁', 0.3414134681224823), ('嫁出去', 0.3410551846027374), ('心软', 0.3408240079879761), ('没', 0.3404770493507385), ('嫁了人', 0.3396979868412018), ('登徒子', 0.3392880856990814), ('做', 0.33868950605392456), ('内疚', 0.3383156955242157), ('做错', 0.3364684581756592), ('不在', 0.33576440811157227), ('嫁进', 0.3354966640472412), ('委屈', 0.33532437682151794), ('养大', 0.33446425199508667), ('嫁入', 0.3342762589454651), ('尽孝', 0.3338968753814697), ('害怕', 0.3336513340473175), ('哭诉', 0.3330408036708832), ('不想', 0.3322383463382721), ('重活', 0.33173102140426636), ('百般', 0.3314748704433441), ('出嫁', 0.33140820264816284), ('真心', 0.33137595653533936), ('再嫁', 0.32842278480529785), ('自作多情', 0.3274967074394226), ('嫁过来', 0.3266603648662567), ('想着', 0.32657378911972046), ('氏', 0.3260659873485565), ('心里', 0.32531434297561646), ('装晕', 0.3240204453468323), ('放不下', 0.3233076333999634), ('夕', 0.3218785524368286), ('上辈子', 0.3216438293457031), ('疼惜', 0.3211118280887604), ('哭闹', 0.32071787118911743), ('怜惜', 0.32058000564575195), ('闹脾气', 0.31898170709609985), ('婉宁', 0.31821757555007935), ('陪嫁', 0.3175685405731201), ('贤惠', 0.31745851039886475), ('自尊心', 0.3165263831615448), ('哭', 0.3164603114128113), ('管好', 0.3161706328392029), ('瘫子', 0.316135436296463), ('失忆', 0.3160403370857239), ('闷闷不乐', 0.3154737949371338), ('求情', 0.315159410238266), ('撒谎', 0.315064936876297), ('嫁给', 0.3138461709022522), ('说破', 0.3135809302330017), ('甜甜', 0.31318557262420654), ('自私', 0.31292724609375), ('相依为命', 0.3125320374965668), ('梳头', 0.3124123215675354), ('嫁过去', 0.31175559759140015), ('寻死', 0.31155937910079956), ('顾琅华', 0.3113406300544739), ('萧柔', 0.31120026111602783), ('自闭', 0.3107508420944214), ('养过', 0.3105929493904114), ('事在人为', 0.31041523814201355), ('不忍心', 0.3103603422641754), ('喝药', 0.31021010875701904), ('魂不守舍', 0.30997827649116516), ('冲喜', 0.30981501936912537), ('说谎', 0.3097779154777527), ('身边', 0.3091789782047272), ('懦弱', 0.3089592158794403), ('明明', 0.30861377716064453), ('软弱', 0.30849623680114746), ('撒娇', 0.30780550837516785), ('缭', 0.3073441982269287), ('诉苦', 0.3072524964809418), ('心眼小', 0.3070557713508606), ('贪玩', 0.3066599369049072), ('今生', 0.305856853723526), ('认命', 0.30577677488327026), ('斥责', 0.30560749769210815), ('责怪', 0.3053785562515259), ('进宫', 0.3051982522010803), ('无缘无故', 0.3051909804344177), ('守规矩', 0.3049750328063965), ('讨回公道', 0.3046475648880005), ('是不是', 0.30422765016555786), ('受苦', 0.30403316020965576), ('教唆', 0.3036421537399292), ('做点事', 0.30340686440467834), ('禄', 0.3032524585723877), ('心善', 0.3028448522090912), ('顺眼', 0.30183014273643494), ('闹别扭', 0.30118390917778015), ('钴', 0.30096665024757385), ('明菲', 0.30091598629951477), ('知礼', 0.300747275352478), ('玲珑', 0.30047407746315), ('仁善', 0.2999335527420044), ('娇嗔', 0.29980623722076416), ('嗔道', 0.29970207810401917), ('贴心', 0.2996844947338104), ('研华', 0.2995983362197876), ('觉得', 0.2995817959308624), ('自怜', 0.29893022775650024), ('撮合', 0.2985040247440338), ('身孕', 0.29789701104164124), ('柔柔的', 0.29774579405784607), ('难过', 0.2973228096961975), ('示好', 0.2970719337463379), ('打骂', 0.2969731092453003), ('诬蔑', 0.29688578844070435), ('害死', 0.2967231273651123), ('到底', 0.29665660858154297), ('倔强', 0.29645219445228577), ('伤心欲绝', 0.2963806390762329), ('不嫁', 0.2963680028915405), ('一心一意', 0.29618754982948303), ('过问', 0.2961083650588989), ('左右为难', 0.29593268036842346), ('欺负', 0.2958938479423523), ('亲近', 0.29570043087005615), ('落水', 0.29565030336380005), ('说', 0.29523253440856934), ('了要', 0.2951830327510834), ('病着', 0.2951320707798004), ('忍让', 0.2951156198978424), ('讨', 0.2937241196632385), ('无理取闹', 0.2934854030609131), ('守寡', 0.2931864261627197), ('好声好气', 0.2928670644760132), ('疏远', 0.29257747530937195), ('怀孕', 0.2925751805305481), ('陷害', 0.2924823462963104), ('想要', 0.2924787998199463), ('善解人意', 0.29189586639404297), ('讨厌', 0.29184800386428833), ('不该', 0.29171016812324524), ('不肯', 0.29156598448753357), ('不爱', 0.2914862334728241), ('怨恨', 0.2914007604122162), ('错', 0.2907003164291382), ('怡', 0.2905665934085846), ('红红的', 0.2905195355415344), ('儿时', 0.2903577387332916), ('明澜', 0.2903459370136261), ('疼', 0.29023486375808716), ('好话', 0.29023465514183044), ('瞎了眼', 0.29021841287612915), ('好日子', 0.2900985777378082), ('鬼迷心窍', 0.29000309109687805), ('服侍', 0.2899472117424011), ('酸酸的', 0.28962647914886475), ('死缠烂打', 0.2892993092536926), ('用意', 0.2886636555194855), ('不能', 0.2884930968284607), ('好想你', 0.2883574366569519), ('顾', 0.28817927837371826), ('落井下石', 0.28811171650886536), ('童年', 0.2877163290977478), ('日有所思', 0.28753721714019775), ('好人家', 0.28748273849487305), ('受罪', 0.2873839735984802), ('蕙', 0.2872854173183441), ('没像', 0.2870662808418274), ('装作', 0.2869490087032318), ('自食其力', 0.2865639925003052), ('厌烦', 0.28650540113449097), ('好好学', 0.28632479906082153), ('害羞', 0.2862085700035095), ('想多', 0.285987913608551), ('胆小', 0.2858068346977234), ('自小', 0.28558576107025146)]\n",
      "\n"
     ]
    }
   ],
   "source": [
    "print(\"he in male novel: \\n\", bookW2V_loss.most_similar(\"male_he\", topn= 200))\n",
    "print()\n",
    "print(\"she in male novel: \\n\", bookW2V_loss.most_similar(\"male_she\", topn= 200))\n",
    "print()\n",
    "print(\"he in female novel: \\n\", bookW2V_loss.most_similar(\"female_he\", topn= 200))\n",
    "print()\n",
    "print(\"she in female novel: \\n\", bookW2V_loss.most_similar(\"female_she\", topn= 200))\n",
    "print()\n",
    "#print(senReleasesW2V.doesnt_match[\"male_he\", \"male_she\", \"female_he\", \"female_she\"])"
   ]
  },
  {
   "cell_type": "code",
   "execution_count": 138,
   "metadata": {
    "collapsed": false
   },
   "outputs": [],
   "source": [
    "def cos_difference(embedding,word1,word2):\n",
    "    return sklearn.metrics.pairwise.cosine_similarity(embedding[word1].reshape(1,-1),embedding[word2].reshape(1,-1))"
   ]
  },
  {
   "cell_type": "code",
   "execution_count": 139,
   "metadata": {
    "collapsed": false
   },
   "outputs": [
    {
     "name": "stdout",
     "output_type": "stream",
     "text": [
      "[[0.51786196]]\n",
      "[[-0.01861951]]\n"
     ]
    }
   ],
   "source": [
    "\"\"\"Shiyu's note: This is me figuring out whether this function is calculating\n",
    "similarity or difference. \n",
    "I confirm that it is calculating similarity.\"\"\"\n",
    "print(cos_difference(bookW2V_loss, \"温柔\", \"温和\"))\n",
    "print(cos_difference(bookW2V_loss, \"温柔\", \"嗤之以鼻\"))"
   ]
  },
  {
   "cell_type": "code",
   "execution_count": 140,
   "metadata": {
    "collapsed": false
   },
   "outputs": [],
   "source": [
    "def intrinsic_similarity(wordlist):\n",
    "    np_2dim= np.empty((len(wordlist), len(wordlist)))\n",
    "    for i in range(np_2dim.shape[0]):\n",
    "        for j in range(np_2dim.shape[1]):\n",
    "            np_2dim[i, j]= cos_difference(bookW2V_loss, wordlist[i], wordlist[j])\n",
    "    return np_2dim"
   ]
  },
  {
   "cell_type": "code",
   "execution_count": 141,
   "metadata": {
    "collapsed": true
   },
   "outputs": [],
   "source": [
    "male_he_sim= [w for w, v in bookW2V_loss.most_similar(\"male_he\", topn= 200)]\n",
    "male_she_sim= [w for w, v in bookW2V_loss.most_similar(\"male_she\", topn= 200)]\n",
    "female_he_sim= [w for w, v in bookW2V_loss.most_similar(\"female_he\", topn= 200)]\n",
    "female_she_sim= [w for w, v in bookW2V_loss.most_similar(\"female_she\", topn= 200)]"
   ]
  },
  {
   "cell_type": "code",
   "execution_count": 142,
   "metadata": {
    "collapsed": false
   },
   "outputs": [
    {
     "name": "stdout",
     "output_type": "stream",
     "text": [
      "intrinsic similarity around male_he: \n",
      " 0.13960379674929427\n",
      "intrinsic similarity around male_she: \n",
      " 0.1784164985965588\n",
      "intrinsic similarity around female_he: \n",
      " 0.1930747339020949\n",
      "intrinsic similarity around female_she: \n",
      " 0.1833606457034126\n"
     ]
    }
   ],
   "source": [
    "print(\"intrinsic similarity around male_he: \\n\", \n",
    "      intrinsic_similarity(male_he_sim).mean())\n",
    "print(\"intrinsic similarity around male_she: \\n\", \n",
    "      intrinsic_similarity(male_she_sim).mean())\n",
    "print(\"intrinsic similarity around female_he: \\n\", \n",
    "      intrinsic_similarity(female_he_sim).mean())\n",
    "print(\"intrinsic similarity around female_she: \\n\", \n",
    "      intrinsic_similarity(female_she_sim).mean())"
   ]
  },
  {
   "cell_type": "code",
   "execution_count": 143,
   "metadata": {
    "collapsed": false
   },
   "outputs": [
    {
     "name": "stdout",
     "output_type": "stream",
     "text": [
      "[[0.40622312]]\n",
      "[[0.19959691]]\n",
      "[[0.4731263]]\n",
      "[[0.536035]]\n"
     ]
    }
   ],
   "source": [
    "print(cos_difference(bookW2V_loss, 'male_he', 'female_he'))\n",
    "print(cos_difference(bookW2V_loss, 'male_he', 'male_she'))\n",
    "print(cos_difference(bookW2V_loss, 'female_he', 'female_she'))\n",
    "print(cos_difference(bookW2V_loss, 'male_she', 'female_she'))"
   ]
  },
  {
   "cell_type": "code",
   "execution_count": 144,
   "metadata": {
    "collapsed": false
   },
   "outputs": [
    {
     "name": "stdout",
     "output_type": "stream",
     "text": [
      "[('温和', 0.4507729411125183)]\n"
     ]
    }
   ],
   "source": [
    "print(bookW2V_loss.most_similar(positive = ['female_he','温柔'], negative = ['female_she'], topn = 1))"
   ]
  },
  {
   "cell_type": "code",
   "execution_count": 145,
   "metadata": {
    "collapsed": false
   },
   "outputs": [
    {
     "name": "stdout",
     "output_type": "stream",
     "text": [
      "[('吃喝玩乐', 0.3143211305141449)]\n"
     ]
    }
   ],
   "source": [
    "print(bookW2V_loss.most_similar(positive = ['male_he','害羞'], negative = ['male_she'], topn = 1))"
   ]
  },
  {
   "cell_type": "code",
   "execution_count": 146,
   "metadata": {
    "collapsed": false
   },
   "outputs": [
    {
     "name": "stdout",
     "output_type": "stream",
     "text": [
      "[('有所为有所不为', 0.3707207441329956)]\n"
     ]
    }
   ],
   "source": [
    "print(bookW2V_loss.most_similar(positive = ['male_he','善良'], negative = ['male_she'], topn = 1))"
   ]
  },
  {
   "cell_type": "code",
   "execution_count": 147,
   "metadata": {
    "collapsed": false
   },
   "outputs": [
    {
     "name": "stdout",
     "output_type": "stream",
     "text": [
      "[('赏识', 0.41883063316345215)]\n"
     ]
    }
   ],
   "source": [
    "print(bookW2V_loss.most_similar(positive = ['male_he','贤惠'], negative = ['male_she'], topn = 1))"
   ]
  },
  {
   "cell_type": "code",
   "execution_count": 148,
   "metadata": {
    "collapsed": false
   },
   "outputs": [
    {
     "name": "stdout",
     "output_type": "stream",
     "text": [
      "[('在乎', 0.3832142651081085)]\n"
     ]
    }
   ],
   "source": [
    "print(bookW2V_loss.most_similar(positive = ['male_he','吃醋'], negative = ['male_she'], topn = 1))"
   ]
  },
  {
   "cell_type": "code",
   "execution_count": 149,
   "metadata": {
    "collapsed": false
   },
   "outputs": [
    {
     "name": "stdout",
     "output_type": "stream",
     "text": [
      "[('不依', 0.4406299591064453), ('耍赖', 0.40793299674987793)]\n"
     ]
    }
   ],
   "source": [
    "print(bookW2V_loss.most_similar(positive = ['female_he','撒娇'], negative = ['female_she'], topn = 2))"
   ]
  },
  {
   "cell_type": "code",
   "execution_count": 150,
   "metadata": {
    "collapsed": false
   },
   "outputs": [
    {
     "name": "stdout",
     "output_type": "stream",
     "text": [
      "[('妩媚动人', 0.40606045722961426)]\n"
     ]
    }
   ],
   "source": [
    "print(bookW2V_loss.most_similar(positive = ['male_she','激怒'], negative = ['male_he'], topn = 1))"
   ]
  },
  {
   "cell_type": "code",
   "execution_count": 151,
   "metadata": {
    "collapsed": false
   },
   "outputs": [
    {
     "name": "stdout",
     "output_type": "stream",
     "text": [
      "[('妩媚', 0.3648265302181244)]\n"
     ]
    }
   ],
   "source": [
    "print(bookW2V_loss.most_similar(positive = ['male_she','后悔'], negative = ['male_he'], topn = 1))"
   ]
  },
  {
   "cell_type": "code",
   "execution_count": 152,
   "metadata": {
    "collapsed": false
   },
   "outputs": [
    {
     "name": "stdout",
     "output_type": "stream",
     "text": [
      "[('前世', 0.397818922996521), ('现在', 0.3871608078479767)]\n"
     ]
    }
   ],
   "source": [
    "print(bookW2V_loss.most_similar(positive = ['female_she','欺骗'], negative = ['female_he'], topn = 2))"
   ]
  },
  {
   "cell_type": "code",
   "execution_count": 153,
   "metadata": {
    "collapsed": false
   },
   "outputs": [
    {
     "name": "stdout",
     "output_type": "stream",
     "text": [
      "[('柔弱', 0.42818623781204224)]\n"
     ]
    }
   ],
   "source": [
    "print(bookW2V_loss.most_similar(positive = ['male_she','强大'], negative = ['male_he'], topn = 1))"
   ]
  },
  {
   "cell_type": "code",
   "execution_count": 154,
   "metadata": {
    "collapsed": false
   },
   "outputs": [
    {
     "name": "stdout",
     "output_type": "stream",
     "text": [
      "[('不懂事', 0.4375791847705841), ('重活', 0.41903895139694214), ('内疚', 0.41574573516845703)]\n"
     ]
    }
   ],
   "source": [
    "print(bookW2V_loss.most_similar(positive = ['female_she','做错事'], negative = ['female_he'], topn = 3))"
   ]
  },
  {
   "cell_type": "markdown",
   "metadata": {},
   "source": [
    "<span style=\"color:green\"> Bootstrapping to see how stable the above estimation is."
   ]
  },
  {
   "cell_type": "code",
   "execution_count": 75,
   "metadata": {
    "collapsed": false
   },
   "outputs": [],
   "source": [
    "##Bootstrapping with replacement\n",
    "s_k_1= []\n",
    "s_k_2= []\n",
    "s_k_3= []\n",
    "s_k_4= []\n",
    "\n",
    "for x in range(20): #The x here is not used above. Just a way to repeat the operation 20 times\n",
    "    \n",
    "    #bookW2VB = gensim.models.word2vec.Word2Vec(bookDF_ch[\"30_ch_list_replace\"].sample(frac=1.0, replace=True).sum())\n",
    "    bookW2VB = gensim.models.word2vec.Word2Vec(size = 200, #dimensions\n",
    "                                               alpha=0.025,\n",
    "                                               window=5,\n",
    "                                               min_count=5,\n",
    "                                               hs=0,  #hierarchical softmax toggle\n",
    "                                               compute_loss = True)\n",
    "    sampB= bookDF_ch[\"30_ch_list_replace\"].sample(frac=0.6, replace=True).sum()\n",
    "    bookW2VB.build_vocab(sampB)\n",
    "    bookW2VB.train(sampB, \n",
    "                   total_examples= 1000, \n",
    "                   epochs=20)\n",
    "    try:\n",
    "        s_k_1.append(cos_difference(bookW2VB, 'male_he', 'female_he')[0,0])\n",
    "        s_k_2.append(cos_difference(bookW2VB, 'male_he', 'male_she')[0,0])\n",
    "        s_k_3.append(cos_difference(bookW2VB, 'female_she', 'female_he')[0,0])\n",
    "        s_k_4.append(cos_difference(bookW2VB, 'male_she', 'female_she')[0,0])\n",
    "    except KeyError:\n",
    "        #Missing one of the words from the vocab\n",
    "        pass\n",
    "                                                    "
   ]
  },
  {
   "cell_type": "code",
   "execution_count": 76,
   "metadata": {
    "collapsed": false
   },
   "outputs": [
    {
     "name": "stdout",
     "output_type": "stream",
     "text": [
      "[-0.14159998, -0.15353248, -0.12887119, -0.14855212, -0.20093767, -0.14813176, -0.12233892, -0.1446921, -0.17506664, -0.076906234, -0.10233536, -0.12369105, -0.16562621, -0.19504687, -0.21864238, -0.15350905, -0.12587994, -0.12677902, -0.122908235, -0.16256627]\n",
      "[0.48673204, 0.48039687, 0.5022582, 0.5342021, 0.5383042, 0.4317492, 0.47858396, 0.4509771, 0.5343893, 0.51645577, 0.46300942, 0.49278858, 0.51251787, 0.5153172, 0.49789745, 0.4612226, 0.5096222, 0.50424, 0.5180706, 0.533738]\n",
      "[0.6567549, 0.60054606, 0.6598858, 0.61746144, 0.65620744, 0.6203268, 0.6866061, 0.6512524, 0.63846076, 0.59458363, 0.5715442, 0.63989055, 0.6663777, 0.6496202, 0.6252638, 0.6369027, 0.6543108, 0.5302937, 0.62789637, 0.61407876]\n",
      "[0.035165675, 0.040422786, 0.0028875154, -0.00060792454, 0.0015785787, -0.0021180902, 0.049798504, 0.019898802, -0.034407537, -0.028576093, 0.0039907023, 0.016517336, -0.059326585, 0.036456063, -0.028236374, -0.02832999, 0.019878002, 0.018235276, -0.016139846, 0.026264839]\n"
     ]
    }
   ],
   "source": [
    "print(s_k_1)\n",
    "print(s_k_2)\n",
    "print(s_k_3)\n",
    "print(s_k_4)\n",
    "#This generates results very different from the original ones. \n",
    "#Even the sign (+/-) is different.\n",
    "#I cannot understand why."
   ]
  },
  {
   "cell_type": "markdown",
   "metadata": {},
   "source": [
    "<span style=\"color:green\"> Ploting a scattered cloud. I trie to plot Chinese characters using the external link that TAs provide (https://jdhao.github.io/2017/05/13/guide-on-how-to-use-chinese-with-matplotlib/). But I still could not make it happen. I don't find the cloud particularly informative. For me, Exercise 3 is a more useful visual model."
   ]
  },
  {
   "cell_type": "code",
   "execution_count": 139,
   "metadata": {
    "collapsed": false
   },
   "outputs": [],
   "source": [
    "#For ploting\n",
    "male_he_sim= [w for w, v in bookW2V_loss.most_similar(\"male_he\", topn= 20)]\n",
    "male_she_sim= [w for w, v in bookW2V_loss.most_similar(\"male_she\", topn= 20)]\n",
    "female_he_sim= [w for w, v in bookW2V_loss.most_similar(\"female_he\", topn= 20)]\n",
    "female_she_sim= [w for w, v in bookW2V_loss.most_similar(\"female_she\", topn= 20)]\n",
    "\n",
    "targetWords= list(male_he_sim)\n",
    "numWords= len(targetWords)"
   ]
  },
  {
   "cell_type": "code",
   "execution_count": 140,
   "metadata": {
    "collapsed": false
   },
   "outputs": [],
   "source": [
    "wordsSubMatrix = []\n",
    "for word in targetWords:\n",
    "    wordsSubMatrix.append(bookW2V_loss[word])\n",
    "wordsSubMatrix = np.array(wordsSubMatrix)\n",
    "#wordsSubMatrix"
   ]
  },
  {
   "cell_type": "code",
   "execution_count": 141,
   "metadata": {
    "collapsed": true
   },
   "outputs": [],
   "source": [
    "pcaWords = sklearn.decomposition.PCA(n_components = 50).fit(wordsSubMatrix)\n",
    "reducedPCA_data = pcaWords.transform(wordsSubMatrix)\n",
    "#T-SNE is theoretically better, but you should experiment\n",
    "tsneWords = sklearn.manifold.TSNE(n_components = 2, early_exaggeration = 25).fit_transform(reducedPCA_data)"
   ]
  },
  {
   "cell_type": "code",
   "execution_count": 157,
   "metadata": {
    "collapsed": false
   },
   "outputs": [
    {
     "name": "stderr",
     "output_type": "stream",
     "text": [
      "//anaconda/lib/python3.5/site-packages/matplotlib/font_manager.py:1320: UserWarning: findfont: Font family ['Microsoft YaHei'] not found. Falling back to DejaVu Sans\n",
      "  (prop.get_family(), self.defaultFamily[fontext]))\n"
     ]
    },
    {
     "data": {
      "image/png": "[encoded data removed]",
      "text/plain": [
       "<matplotlib.figure.Figure at 0x48019a9b0>"
      ]
     },
     "metadata": {},
     "output_type": "display_data"
    }
   ],
   "source": [
    "fig = plt.figure(figsize = (15,10))\n",
    "ax = fig.add_subplot(111)\n",
    "\n",
    "ax.set_frame_on(False)\n",
    "font_path = \"FangSong.ttf\"\n",
    "prop = mfm.FontProperties(fname=font_path)\n",
    "\n",
    "plt.scatter(tsneWords[:, 0], tsneWords[:, 1], alpha = 0)#Making the points invisible \n",
    "for i, word in enumerate(targetWords):\n",
    "    ax.annotate(word, \n",
    "                (tsneWords[:, 0][i],tsneWords[:, 1][i]), \n",
    "                size =  20 * (numWords - i) / numWords, \n",
    "                alpha = .8 * (numWords - i) / numWords + .2)\n",
    "plt.xticks(())\n",
    "plt.yticks(())\n",
    "plt.show()"
   ]
  },
  {
   "cell_type": "markdown",
   "metadata": {},
   "source": [
    "##  <span style=\"color:purple\"> Exercise 2\n",
    "\n",
    "<span style=\"color:purple\">Construct cells immediately below this that build a doc2vec model with your corpus. Interrogate document and word relationships in the resulting space. Construct a heatmap that plots the distances between a subset of your documents against each other, and against a set of informative words. Find distances between *every* document in your corpus and a word or query of interest. What do these doc-doc proximities reveal about your corpus? What do these word-doc proximities highlight? Demonstrate and document one reasonable way to select a defensible subset of query-relevant documents for subsequent analysis."
   ]
  },
  {
   "cell_type": "markdown",
   "metadata": {},
   "source": [
    "<span style=\"color:pink\"> A note to Shiyu: For the purpose of this exercise, when I use POS tags to select words, I ketp \"n\" (noun), so that things such as \"机甲\" and \"游戏\" are retained. But for in general, keeping \"n\" generates restuls that are less informative.\n",
    "keep_tag= [\"a\", \"ag\", \"ad\", \"an\", \"d\", \"e\", \"i\", \"l\", \"ng\", \"o\", \"n\", \"s\", \"tg\", \"t\", \"vg\", \"v\", \"vn\", \"z\"]"
   ]
  },
  {
   "cell_type": "markdown",
   "metadata": {},
   "source": [
    "<span style=\"color:green\"> This exercise is not necessarily helpful for analyzing my corpus. My corpus does not have a clear theme that can be identified by a few keywords. For example, while 仙侠 or 玄幻 are two popular themes, this does not mean that these two words appear in the main text. I arbitrarily come up with a few keywords, but I do not think they capture the content of the novels well. Also, I do not obtain much information from ploting the heatmaps becuase I do not have good keywords nor systematic varaions (such time) to plot with. "
   ]
  },
  {
   "cell_type": "code",
   "execution_count": 68,
   "metadata": {
    "collapsed": false
   },
   "outputs": [],
   "source": [
    "keywords= [\"现代\", \"古代\", \"修炼\", \"宫中\", \n",
    "           \"总裁\", \"机甲\", \"游戏\", \"皇上\",\n",
    "           \"皇后\", \"奴婢\", \"重生\", \"穿越\",\n",
    "           \"玄幻\", \"领主\", \"天尊\", \"神\",\n",
    "           \"仙人\", \"魔\", \"豪门\", \"府\",\n",
    "           \"虐\", \"甜\"]"
   ]
  },
  {
   "cell_type": "code",
   "execution_count": 69,
   "metadata": {
    "collapsed": true
   },
   "outputs": [],
   "source": [
    "taggedDocs = []\n",
    "i= 0\n",
    "for index, row in bookDF_ch.iterrows():\n",
    "    docKeywords = [s for s in keywords if s in row[\"30_ch_list_replace\"][0]]\n",
    "    docKeywords.append(i)\n",
    "    taggedDocs.append(gensim.models.doc2vec.LabeledSentence(words = row[\"30_ch_list_replace\"][0], tags = docKeywords))\n",
    "    i+= 1\n",
    "bookDF_ch['TaggedAbstracts'] = taggedDocs"
   ]
  },
  {
   "cell_type": "code",
   "execution_count": 70,
   "metadata": {
    "collapsed": true
   },
   "outputs": [],
   "source": [
    "bookD2V = gensim.models.doc2vec.Doc2Vec(bookDF_ch['TaggedAbstracts'], size = 100) #Limiting to 100 dimensions"
   ]
  },
  {
   "cell_type": "code",
   "execution_count": 71,
   "metadata": {
    "collapsed": false
   },
   "outputs": [
    {
     "data": {
      "text/plain": [
       "array([-1.1155171e+00, -1.1467651e+00,  7.9097784e-01,  1.4263470e+00,\n",
       "       -5.3000230e-01, -1.1832881e+00,  2.5366166e-01,  4.6617842e-01,\n",
       "       -1.4167212e+00, -4.7321728e-01, -1.7846630e+00,  8.3140355e-01,\n",
       "       -1.6244587e-01,  9.8740405e-01,  1.0269039e+00, -1.4491081e-01,\n",
       "        3.1993535e-01,  1.1046219e+00, -2.4959780e-02,  5.4289007e-01,\n",
       "        1.3878640e-02,  6.4188492e-01,  1.3854328e-01,  3.6601605e+00,\n",
       "       -1.0030669e+00, -1.0099443e+00, -2.4327030e+00, -5.2429283e-01,\n",
       "        2.2027810e+00, -8.7615550e-01,  1.6590412e-01,  6.0124880e-01,\n",
       "       -1.8402792e+00,  9.1338795e-01,  1.8809593e+00, -4.1328421e-01,\n",
       "        4.6799934e-01,  2.5572431e+00, -1.6206881e-01,  6.7054588e-01,\n",
       "       -1.0751824e+00, -9.0871483e-01,  5.3654224e-01, -4.9708161e-01,\n",
       "        3.7308016e-01, -2.7125802e+00,  1.0172523e+00,  6.9266641e-01,\n",
       "       -7.3143417e-01, -1.1647276e+00, -4.2019150e-01, -7.6596759e-02,\n",
       "        3.0998263e-01,  2.7661104e+00, -3.7537963e+00,  3.2074120e+00,\n",
       "       -1.5822408e-01, -9.7693596e-04, -7.7490419e-01,  1.4908246e+00,\n",
       "        7.9658747e-01,  9.5070416e-01, -2.7726347e+00,  1.1779994e+00,\n",
       "        3.3867860e-01,  9.0414739e-01, -3.3305337e+00,  4.3292928e-01,\n",
       "       -1.7194782e+00,  2.7022129e-01,  2.0535117e-01, -5.2308607e-01,\n",
       "        1.8057275e+00, -7.4983633e-01,  8.9115405e-01,  8.8654977e-01,\n",
       "       -1.8696895e+00, -4.0442246e-01, -1.2162366e+00, -1.9710572e-01,\n",
       "       -8.0999750e-01,  4.7454765e-01, -1.6122453e+00, -1.2655019e+00,\n",
       "       -1.9166356e-01, -1.1319022e+00,  1.1227949e+00,  2.2464421e+00,\n",
       "        8.6591941e-01, -1.5807106e+00, -1.1820731e+00, -9.8641604e-01,\n",
       "       -1.4407643e+00,  1.9856917e+00,  1.4765499e+00,  2.4666834e-01,\n",
       "       -2.4460666e+00, -6.9650364e-01, -1.4467595e+00, -2.9441941e+00],\n",
       "      dtype=float32)"
      ]
     },
     "execution_count": 71,
     "metadata": {},
     "output_type": "execute_result"
    }
   ],
   "source": [
    "bookD2V.docvecs[11]"
   ]
  },
  {
   "cell_type": "code",
   "execution_count": 72,
   "metadata": {
    "collapsed": false
   },
   "outputs": [
    {
     "data": {
      "text/plain": [
       "array([-1.036241  ,  4.0010567 ,  0.02261294, -0.6773002 ,  0.39262843,\n",
       "        2.8891726 , -3.184919  ,  0.4944134 ,  2.974797  , -2.1717992 ,\n",
       "       -1.9812274 ,  1.0054095 ,  1.0835681 , -2.07533   ,  1.3968008 ,\n",
       "        0.9056652 , -2.1772127 , -3.2824504 ,  1.2190511 ,  0.54111785,\n",
       "       -0.7178481 ,  2.3909092 , -0.17335124, -1.3369843 , -0.6619339 ,\n",
       "       -0.35640058,  2.1047494 ,  0.6734388 , -0.67553145,  0.08581492,\n",
       "       -1.2816236 , -0.5490736 , -1.297186  ,  0.03499864, -1.5791192 ,\n",
       "       -2.3625722 ,  2.7228987 ,  1.0689354 ,  0.50509715,  0.9171841 ,\n",
       "        0.35272798,  1.067422  , -0.16974498,  0.84075165, -4.071526  ,\n",
       "       -1.4442762 , -0.02616126,  1.8495021 , -0.2213452 , -0.7679084 ,\n",
       "       -1.3960645 ,  0.9490042 ,  2.3360958 , -5.5621777 ,  1.9834591 ,\n",
       "       -0.44313717, -5.298339  ,  0.19431332,  5.72587   , -2.939152  ,\n",
       "        0.90842706, -3.065266  ,  1.9198442 , -1.912186  , -2.2781122 ,\n",
       "       -1.02624   , -1.5851706 , -0.0820889 ,  1.5303276 ,  3.8291728 ,\n",
       "       -1.1824259 , -2.4079583 , -1.059191  , -0.9836186 , -5.9414186 ,\n",
       "       -1.0520259 , -0.99549747,  2.3787549 , -2.1872098 , -0.75452983,\n",
       "        5.703409  ,  1.1010323 ,  0.9377105 ,  2.6843135 , -0.9743055 ,\n",
       "        0.46920267,  0.9140062 , -0.22067982,  0.6023808 , -2.2878487 ,\n",
       "       -3.7447376 , -1.5823257 ,  2.1238768 , -0.25324243,  2.1784348 ,\n",
       "        0.82207596, -5.931085  ,  1.5785075 ,  0.10790248,  0.20615323],\n",
       "      dtype=float32)"
      ]
     },
     "execution_count": 72,
     "metadata": {},
     "output_type": "execute_result"
    }
   ],
   "source": [
    "bookD2V[\"穿越\"]"
   ]
  },
  {
   "cell_type": "code",
   "execution_count": 73,
   "metadata": {
    "collapsed": false
   },
   "outputs": [
    {
     "data": {
      "text/plain": [
       "[('善良', 0.6314175128936768)]"
      ]
     },
     "execution_count": 73,
     "metadata": {},
     "output_type": "execute_result"
    }
   ],
   "source": [
    "bookD2V.most_similar(positive = ['male_she', '愚蠢'], negative = ['male_he'], topn = 1)"
   ]
  },
  {
   "cell_type": "code",
   "execution_count": 74,
   "metadata": {
    "collapsed": false
   },
   "outputs": [
    {
     "name": "stdout",
     "output_type": "stream",
     "text": [
      "244 变身路人女主\n",
      "126 贼胆\n",
      "38 重生完美时代\n",
      "668 仙姿物语\n",
      "613 神仙也有江湖\n"
     ]
    }
   ],
   "source": [
    "names= pd.concat([bookDF_male_tokenized[\"name\"], bookDF_female_tokenized[\"name\"]], axis= 0)\n",
    "theme_book= bookD2V.docvecs.most_similar([ bookD2V[\"重生\"] ], topn=5 )\n",
    "for ind, num in theme_book:\n",
    "    print(ind, names.iloc[ind])"
   ]
  },
  {
   "cell_type": "code",
   "execution_count": 75,
   "metadata": {
    "collapsed": false
   },
   "outputs": [
    {
     "data": {
      "text/plain": [
       "[('宅斗', 0.7345486283302307),\n",
       " ('牺牲品', 0.7044982314109802),\n",
       " ('爱情', 0.7036799192428589),\n",
       " ('个人观点', 0.6952002048492432),\n",
       " ('大团圆', 0.6883739233016968)]"
      ]
     },
     "execution_count": 75,
     "metadata": {},
     "output_type": "execute_result"
    }
   ],
   "source": [
    "bookD2V.most_similar( [ bookD2V.docvecs[994] ], topn=5) "
   ]
  },
  {
   "cell_type": "code",
   "execution_count": 76,
   "metadata": {
    "collapsed": false
   },
   "outputs": [
    {
     "name": "stdout",
     "output_type": "stream",
     "text": [
      "381 重生之我为书狂\n",
      "126 贼胆\n",
      "38 重生完美时代\n",
      "244 变身路人女主\n",
      "613 神仙也有江湖\n"
     ]
    }
   ],
   "source": [
    "cross_theme_book= \\\n",
    "bookD2V.docvecs.most_similar([ bookD2V['穿越']+bookD2V['重生']+bookD2V['修炼']], topn=5 )\n",
    "\n",
    "for ind, num in cross_theme_book:\n",
    "    print(ind, names.iloc[ind])"
   ]
  },
  {
   "cell_type": "code",
   "execution_count": 77,
   "metadata": {
    "collapsed": true
   },
   "outputs": [],
   "source": [
    "heatmapMatrix = []\n",
    "for tagOuter in keywords:\n",
    "    column = []\n",
    "    tagVec = bookD2V.docvecs[tagOuter].reshape(1, -1)\n",
    "    for tagInner in keywords:\n",
    "        column.append(sklearn.metrics.pairwise.cosine_similarity(tagVec, bookD2V.docvecs[tagInner].reshape(1, -1))[0][0])\n",
    "    heatmapMatrix.append(column)\n",
    "heatmapMatrix = np.array(heatmapMatrix)"
   ]
  },
  {
   "cell_type": "code",
   "execution_count": 78,
   "metadata": {
    "collapsed": false
   },
   "outputs": [
    {
     "name": "stderr",
     "output_type": "stream",
     "text": [
      "//anaconda/lib/python3.5/site-packages/matplotlib/font_manager.py:1320: UserWarning: findfont: Font family ['Microsoft YaHei'] not found. Falling back to DejaVu Sans\n",
      "  (prop.get_family(), self.defaultFamily[fontext]))\n"
     ]
    },
    {
     "data": {
      "image/png": "[encoded data removed]",
      "text/plain": [
       "<matplotlib.figure.Figure at 0x481d30b70>"
      ]
     },
     "metadata": {},
     "output_type": "display_data"
    }
   ],
   "source": [
    "fig, ax = plt.subplots()\n",
    "hmap = ax.pcolor(heatmapMatrix, cmap='terrain')\n",
    "cbar = plt.colorbar(hmap)\n",
    "\n",
    "cbar.set_label('cosine similarity', rotation=270)\n",
    "a = ax.set_xticks(np.arange(heatmapMatrix.shape[1]) + 0.5, minor=False)\n",
    "a = ax.set_yticks(np.arange(heatmapMatrix.shape[0]) + 0.5, minor=False)\n",
    "\n",
    "font_path = \"FangSong.ttf\"\n",
    "prop = mfm.FontProperties(fname=font_path)\n",
    "\n",
    "a = ax.set_xticklabels(keywords, minor=False, rotation=270, fontproperties = prop)\n",
    "a = ax.set_yticklabels(keywords, minor=False, fontproperties = prop)"
   ]
  },
  {
   "cell_type": "code",
   "execution_count": 92,
   "metadata": {
    "collapsed": false
   },
   "outputs": [],
   "source": [
    "ind= [0, 100, 200, 300, 400, 500, 600, 700, 800, 900]\n",
    "targetDocs = [i for i in ind]\n",
    "targetDocs_names= [names.iloc[i] for i in ind]\n",
    "\n",
    "heatmapMatrixD = []\n",
    "\n",
    "for tagOuter in targetDocs:\n",
    "    column = []\n",
    "    tagVec = bookD2V.docvecs[tagOuter].reshape(1, -1)\n",
    "    for tagInner in targetDocs:\n",
    "        column.append(sklearn.metrics.pairwise.cosine_similarity(tagVec, bookD2V.docvecs[tagInner].reshape(1, -1))[0][0])\n",
    "    heatmapMatrixD.append(column)\n",
    "heatmapMatrixD = np.array(heatmapMatrixD)"
   ]
  },
  {
   "cell_type": "code",
   "execution_count": 93,
   "metadata": {
    "collapsed": false
   },
   "outputs": [
    {
     "name": "stderr",
     "output_type": "stream",
     "text": [
      "//anaconda/lib/python3.5/site-packages/matplotlib/font_manager.py:1320: UserWarning: findfont: Font family ['Microsoft YaHei'] not found. Falling back to DejaVu Sans\n",
      "  (prop.get_family(), self.defaultFamily[fontext]))\n"
     ]
    },
    {
     "data": {
      "image/png": "[encoded data removed]",
      "text/plain": [
       "<matplotlib.figure.Figure at 0x481fc1ba8>"
      ]
     },
     "metadata": {},
     "output_type": "display_data"
    }
   ],
   "source": [
    "import matplotlib.font_manager as mfm\n",
    "import matplotlib.pyplot as plt\n",
    "\n",
    "fig, ax = plt.subplots()\n",
    "hmap = ax.pcolor(heatmapMatrixD, cmap='terrain')\n",
    "cbar = plt.colorbar(hmap)\n",
    "\n",
    "cbar.set_label('cosine similarity', rotation=270)\n",
    "a = ax.set_xticks(np.arange(heatmapMatrixD.shape[1]) + 0.5, minor=False)\n",
    "a = ax.set_yticks(np.arange(heatmapMatrixD.shape[0]) + 0.5, minor=False)\n",
    "\n",
    "font_path = \"FangSong.ttf\"\n",
    "prop = mfm.FontProperties(fname=font_path)\n",
    "\n",
    "a = ax.set_xticklabels(targetDocs_names, minor=False, rotation=270, fontproperties = prop)\n",
    "a = ax.set_yticklabels(targetDocs_names, minor=False, fontproperties = prop)"
   ]
  },
  {
   "cell_type": "code",
   "execution_count": 90,
   "metadata": {
    "collapsed": true
   },
   "outputs": [],
   "source": [
    "heatmapMatrixC = []\n",
    "ind= [0, 100, 200, 300, 400, 500, 600, 700, 800, 900]\n",
    "targetDocs = [i for i in ind]\n",
    "targetDocs_name= [names.iloc[i] for i in ind]\n",
    "\n",
    "for tagOuter in targetDocs:\n",
    "    column = []\n",
    "    tagVec = bookD2V.docvecs[tagOuter].reshape(1, -1)\n",
    "    for tagInner in keywords:\n",
    "        column.append(sklearn.metrics.pairwise.cosine_similarity(tagVec, bookD2V.docvecs[tagInner].reshape(1, -1))[0][0])\n",
    "    heatmapMatrixC.append(column)\n",
    "heatmapMatrixC = np.array(heatmapMatrixC)"
   ]
  },
  {
   "cell_type": "code",
   "execution_count": 91,
   "metadata": {
    "collapsed": false
   },
   "outputs": [
    {
     "name": "stderr",
     "output_type": "stream",
     "text": [
      "//anaconda/lib/python3.5/site-packages/matplotlib/font_manager.py:1320: UserWarning: findfont: Font family ['Microsoft YaHei'] not found. Falling back to DejaVu Sans\n",
      "  (prop.get_family(), self.defaultFamily[fontext]))\n"
     ]
    },
    {
     "data": {
      "image/png": "[encoded data removed]",
      "text/plain": [
       "<matplotlib.figure.Figure at 0x48202e390>"
      ]
     },
     "metadata": {},
     "output_type": "display_data"
    }
   ],
   "source": [
    "fig, ax = plt.subplots()\n",
    "hmap = ax.pcolor(heatmapMatrixC, cmap='terrain')\n",
    "cbar = plt.colorbar(hmap)\n",
    "\n",
    "cbar.set_label('cosine similarity', rotation=270)\n",
    "a = ax.set_xticks(np.arange(heatmapMatrixC.shape[1]) + 0.5, minor=False)\n",
    "a = ax.set_yticks(np.arange(heatmapMatrixC.shape[0]) + 0.5, minor=False)\n",
    "\n",
    "font_path = \"FangSong.ttf\"\n",
    "prop = mfm.FontProperties(fname=font_path)\n",
    "\n",
    "a = ax.set_xticklabels(keywords, minor=False, rotation=270, fontproperties = prop)\n",
    "a = ax.set_yticklabels(targetDocs_name, minor=False, fontproperties = prop)"
   ]
  },
  {
   "cell_type": "markdown",
   "metadata": {},
   "source": [
    "<span style=\"color:green\"> The distance between all document and a word of interest: \"机甲\". I calculat the similarity between the word 机甲 and each novel, then I filter out the novels that are most similar to 机甲. From the index of these selected novel (the first 500 are male novels), I can see that most of the selected novels belong to 'male novel'. 机甲 is a masculine concept."
   ]
  },
  {
   "cell_type": "code",
   "execution_count": 133,
   "metadata": {
    "collapsed": false
   },
   "outputs": [
    {
     "data": {
      "text/plain": [
       "[(15, '盘龙'),\n",
       " (69, '火影之最强震遁'),\n",
       " (104, '无敌唤灵'),\n",
       " (110, '空速星痕'),\n",
       " (146, '魔天记'),\n",
       " (151, '小兵传奇'),\n",
       " (174, '我们是冠军'),\n",
       " (179, '再次飞升'),\n",
       " (197, '虚拟战士'),\n",
       " (209, '无限恐怖'),\n",
       " (262, '重活'),\n",
       " (297, '武神空间'),\n",
       " (330, '最强黑客'),\n",
       " (333, '明血'),\n",
       " (337, '终极牧师'),\n",
       " (364, '天下'),\n",
       " (391, '妖弓'),\n",
       " (392, '太古神王'),\n",
       " (419, '网游之剧毒'),\n",
       " (427, '苍天霸血'),\n",
       " (437, '网游之最强房东'),\n",
       " (446, '进化的四十六亿重奏'),\n",
       " (476, '电影的世界'),\n",
       " (488, '佣兵的战争'),\n",
       " (489, '邪神传说'),\n",
       " (494, '雪洗天下'),\n",
       " (497, '超脑黑客'),\n",
       " (532, '喜盈门'),\n",
       " (570, '庶女攻略'),\n",
       " (684, '清朝穿越记'),\n",
       " (790, '项链里的空间'),\n",
       " (806, '末世涅凰')]"
      ]
     },
     "execution_count": 133,
     "metadata": {},
     "output_type": "execute_result"
    }
   ],
   "source": [
    "prox_word_doc= np.empty((1000, 1))\n",
    "for i in range(1000):\n",
    "    prox_word_doc[i, 0]= \\\n",
    "    sklearn.metrics.pairwise.cosine_similarity(bookD2V.docvecs[i].reshape(1,-1), \n",
    "                                               bookD2V['机甲'].reshape(1,-1))\n",
    "\n",
    "TF_DF= (prox_word_doc> 0.4)\n",
    "jijia= []\n",
    "\n",
    "for i in range(TF_DF.shape[0]):\n",
    "    if TF_DF[i, 0]== True:\n",
    "        jijia+= [(i, names.iloc[i])]\n",
    "jijia   "
   ]
  },
  {
   "cell_type": "markdown",
   "metadata": {
    "collapsed": true
   },
   "source": [
    "##  <span style=\"color:purple\"> Exercise 3\n",
    "\n",
    "<span style=\"color:purple\"> Construct cells immediately below this that identify semantic dimensions of interest from your data (e.g., gender: man-woman) and project words onto these dimensions. Plot the array of relevant words along each semantic dimension. Which words are most different. Which dimensions are most different? On which dimension are your words most different? Print three short textual examples from the corpus that illustrate the association you have explored."
   ]
  },
  {
   "cell_type": "markdown",
   "metadata": {},
   "source": [
    "<span style=\"color:green\"> I think the most relevant dimension in the novels is gender, so this is the only dimension I plot. I came up with some sentimental adjectives by looking at a Chinese antonym dictionary. Again, \"he\" and \"she\" are associated with gender-colored words. \n",
    "\n",
    "<span style=\"color:green\"> One thing I find specifically interesting is that \"male_he\" and \"male_she\" are the ones stretching the gender dimension. My interpretation is that \"male_he\" is more exageratively masculine than \"female_he\"; and \"male_she\" is more exageratively feminine than \"female_she\". "
   ]
  },
  {
   "cell_type": "code",
   "execution_count": 93,
   "metadata": {
    "collapsed": false
   },
   "outputs": [
    {
     "data": {
      "text/plain": [
       "array([[-0.02293512,  0.36852136, -0.0216776 , ...,  0.05697317,\n",
       "         0.27015418, -0.24982667],\n",
       "       [ 0.17908993,  0.1209452 , -0.08993522, ..., -0.1038888 ,\n",
       "        -0.13519478,  0.83033323],\n",
       "       [ 0.87270856,  0.25010538,  0.18416354, ..., -0.15319735,\n",
       "        -0.21723166, -0.03104302],\n",
       "       ...,\n",
       "       [ 0.30541295,  0.4621455 , -0.26775205, ..., -0.26728308,\n",
       "        -0.5651448 ,  1.1884856 ],\n",
       "       [-0.6171901 ,  0.3085787 ,  0.06366465, ..., -1.6522624 ,\n",
       "        -0.52101314,  0.7638053 ],\n",
       "       [ 0.1565732 ,  0.9801629 , -1.2121413 , ...,  3.3088949 ,\n",
       "        -1.8603109 ,  0.63235104]], dtype=float32)"
      ]
     },
     "execution_count": 93,
     "metadata": {},
     "output_type": "execute_result"
    }
   ],
   "source": [
    "#words to create dimensions\n",
    "tnytTargetWords = ['male_he', \"male_she\", \"female_he\", \"female_she\"]\n",
    "#words we will be mapping\n",
    "tnytTargetWords += [\"善良\", \"冷酷\", \"温柔\", \"粗暴\", \"凶恶\", \"强大\", \n",
    "                    \"柔软\", \"坚硬\", \"纯净\", \"残暴\", \"心软\", \"强硬\",\n",
    "                   \"开心\", \"难过\", \"痛苦\", \"欢乐\", \"悲惨\", \"幸福\", \n",
    "                    \"嫉妒\", \"忌妒\", \"宽恕\", \"豁达\", \"贪婪\", \"惧怕\", \n",
    "                    \"支撑\", \"轻松\", \"沉重\", \"忧伤\", \"从容\", \"喜欢\", \n",
    "                    \"灿烂\", \"动\", \"静\"]\n",
    "target_dic= {\"male_he\": \"male_he\", \"male_she\": \"male_she\", \"female_he\": \"female_he\", \"female_she\": \"female_she\", \n",
    "             \"善良\": \"kind\", \"冷酷\": \"cold-blooded\", \"温柔\": \"gentle\", \"粗暴\": \"rude\", \n",
    "             \"凶恶\": \"fierce\", \"强大\": \"strong\", \"柔软\": \"soft\", \"坚硬\": \"hard\", \"纯净\": \"pure\", \n",
    "             \"残暴\": \"brutal\", \"心软\": \"soft-hearted\", \"强硬\": \"tough\",\n",
    "             \"开心\": \"happy\", \"难过\": \"sad\", \"痛苦\": \"painful\", \"欢乐\": \"joy\", \n",
    "             \"悲惨\": \"miserable\", \"幸福\": \"hapiness\", \"嫉妒\": \"jealous\", \"忌妒\": \"envious\", \n",
    "             \"宽恕\": \"forgive\", \"豁达\": \"generous\", \"贪婪\": \"greedy\", \"惧怕\": \"fear\", \n",
    "             \"支撑\": \"support\", \"轻松\": \"relaxing\", \"沉重\": \"heavy\", \"忧伤\": \"sorrow\", \n",
    "             \"从容\": \"unhurried\", \"喜欢\": \"like\", \"灿烂\": \"glorious\", \"动\": \"moving\", \"静\": \"still\"}\n",
    "\n",
    "\n",
    "wordsSubMatrix = []\n",
    "for word in tnytTargetWords:\n",
    "    wordsSubMatrix.append(bookW2V_loss[word])\n",
    "wordsSubMatrix = np.array(wordsSubMatrix)\n",
    "wordsSubMatrix"
   ]
  },
  {
   "cell_type": "code",
   "execution_count": 101,
   "metadata": {
    "collapsed": false
   },
   "outputs": [
    {
     "name": "stdout",
     "output_type": "stream",
     "text": [
      "['male_he', 'male_she', 'female_he', 'female_she', 'kind', 'cold-blooded', 'gentle', 'rude', 'fierce', 'strong', 'soft', 'hard', 'pure', 'brutal', 'soft-hearted', 'tough', 'happy', 'sad', 'painful', 'joy', 'miserable', 'hapiness', 'jealous', 'envious', 'forgive', 'generous', 'greedy', 'fear', 'support', 'relaxing', 'heavy', 'sorrow', 'unhurried', 'like', 'glorious', 'moving', 'still']\n"
     ]
    }
   ],
   "source": [
    "target_english= [target_dic[w] for w in tnytTargetWords]\n",
    "print(target_english)"
   ]
  },
  {
   "cell_type": "code",
   "execution_count": 102,
   "metadata": {
    "collapsed": true
   },
   "outputs": [],
   "source": [
    "pcaWordsNYT = sklearn.decomposition.PCA(n_components = 50).fit(wordsSubMatrix)\n",
    "reducedPCA_dataNYT = pcaWordsNYT.transform(wordsSubMatrix)\n",
    "#T-SNE is theoretically better, but you should experiment\n",
    "tsneWordsNYT = sklearn.manifold.TSNE(n_components = 2).fit_transform(reducedPCA_dataNYT)"
   ]
  },
  {
   "cell_type": "code",
   "execution_count": 103,
   "metadata": {
    "collapsed": true
   },
   "outputs": [],
   "source": [
    "def normalize(vector):\n",
    "    normalized_vector = vector / np.linalg.norm(vector)\n",
    "    return normalized_vector\n",
    "\n",
    "def dimension(model, positives, negatives):\n",
    "    diff = sum([normalize(model[x]) for x in positives]) - sum([normalize(model[y]) for y in negatives])\n",
    "    return diff"
   ]
  },
  {
   "cell_type": "code",
   "execution_count": 104,
   "metadata": {
    "collapsed": true
   },
   "outputs": [],
   "source": [
    "gender = dimension(bookW2V_loss, [\"male_he\", \"female_he\"], [\"male_she\", \"female_she\"])"
   ]
  },
  {
   "cell_type": "code",
   "execution_count": 108,
   "metadata": {
    "collapsed": true
   },
   "outputs": [],
   "source": [
    "def makeDF(model, word_list):\n",
    "    g = []\n",
    "    \n",
    "    for word in word_list:\n",
    "        g.append(sklearn.metrics.pairwise.cosine_similarity(bookW2V_loss[word].reshape(1,-1), gender.reshape(1,-1))[0][0])\n",
    "    \n",
    "    df = pd.DataFrame({'gender': g}, index = target_english)\n",
    "    return df"
   ]
  },
  {
   "cell_type": "code",
   "execution_count": 110,
   "metadata": {
    "collapsed": false
   },
   "outputs": [],
   "source": [
    "adjectiveDF = makeDF(bookW2V_loss, tnytTargetWords)"
   ]
  },
  {
   "cell_type": "code",
   "execution_count": 111,
   "metadata": {
    "collapsed": true
   },
   "outputs": [],
   "source": [
    "def Coloring(Series):\n",
    "    x = Series.values\n",
    "    y = x-x.min()\n",
    "    z = y/y.max()\n",
    "    c = list(plt.cm.flag(z))\n",
    "    return c\n",
    "\n",
    "def PlotDimension(ax,df, dim):\n",
    "    ax.set_frame_on(False)\n",
    "    #ax.set_title(dim, fontsize = 20)\n",
    "    colors = Coloring(df[dim])\n",
    "    for i, word in enumerate(df.index):\n",
    "        ax.annotate(word, (0, df[dim][i]), color = colors[i], alpha = 0.6, fontsize = 12)\n",
    "    MaxY = df[dim].max()\n",
    "    MinY = df[dim].min()\n",
    "    plt.ylim(MinY,MaxY)\n",
    "    plt.yticks(())\n",
    "    plt.xticks(())"
   ]
  },
  {
   "cell_type": "code",
   "execution_count": 113,
   "metadata": {
    "collapsed": false
   },
   "outputs": [
    {
     "name": "stderr",
     "output_type": "stream",
     "text": [
      "//anaconda/lib/python3.5/site-packages/matplotlib/font_manager.py:1320: UserWarning: findfont: Font family ['Microsoft YaHei'] not found. Falling back to DejaVu Sans\n",
      "  (prop.get_family(), self.defaultFamily[fontext]))\n"
     ]
    },
    {
     "data": {
      "image/png": "[encoded data removed]",
      "text/plain": [
       "<matplotlib.figure.Figure at 0x47fa40d30>"
      ]
     },
     "metadata": {},
     "output_type": "display_data"
    }
   ],
   "source": [
    "fig = plt.figure(figsize = (12,20))\n",
    "ax1 = fig.add_subplot(131)\n",
    "PlotDimension(ax1, adjectiveDF, 'gender')\n",
    "plt.show()"
   ]
  },
  {
   "cell_type": "code",
   "execution_count": null,
   "metadata": {
    "collapsed": true
   },
   "outputs": [],
   "source": []
  }
 ],
 "metadata": {
  "anaconda-cloud": {},
  "kernelspec": {
   "display_name": "Python [Root]",
   "language": "python",
   "name": "Python [Root]"
  }
 },
 "nbformat": 4,
 "nbformat_minor": 0
}
